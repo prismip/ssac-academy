{
 "metadata": {
  "language_info": {
   "codemirror_mode": {
    "name": "ipython",
    "version": 3
   },
   "file_extension": ".py",
   "mimetype": "text/x-python",
   "name": "python",
   "nbconvert_exporter": "python",
   "pygments_lexer": "ipython3",
   "version": "3.7.9-final"
  },
  "orig_nbformat": 2,
  "kernelspec": {
   "name": "python3",
   "display_name": "Python 3"
  }
 },
 "nbformat": 4,
 "nbformat_minor": 2,
 "cells": [
  {
   "cell_type": "code",
   "execution_count": 2,
   "metadata": {},
   "outputs": [],
   "source": [
    "import csv # csv 파일 처리 모듈"
   ]
  },
  {
   "cell_type": "code",
   "execution_count": 6,
   "metadata": {},
   "outputs": [],
   "source": [
    "with open('data-files/seoul-temperature.csv', 'rt', encoding='utf-8') as f:\n",
    "    reader = csv.reader(f) # csv 파일 처리기 만들기\n",
    "\n",
    "    next(reader) # 한 행을 일고 다음 행으로 이동 (헤더를 읽어서 버리기)\n",
    "    lines = []\n",
    "    for line in reader:\n",
    "        lines.append(line)"
   ]
  },
  {
   "cell_type": "code",
   "execution_count": 9,
   "metadata": {},
   "outputs": [
    {
     "output_type": "execute_result",
     "data": {
      "text/plain": [
       "(40910,\n",
       " [['1907-10-01', '108', '13.5', '7.9', '20.7'],\n",
       "  ['1907-10-02', '108', '16.2', '7.9', '22'],\n",
       "  ['1907-10-03', '108', '16.2', '13.1', '21.3'],\n",
       "  ['1907-10-04', '108', '16.5', '11.2', '22'],\n",
       "  ['1907-10-05', '108', '17.6', '10.9', '25.4']])"
      ]
     },
     "metadata": {},
     "execution_count": 9
    }
   ],
   "source": [
    "len(lines), lines[:5]"
   ]
  },
  {
   "cell_type": "code",
   "execution_count": 23,
   "metadata": {},
   "outputs": [],
   "source": [
    "# map(함수, 데이터) -> 데이터의 각 행에 함수를 적용해서 결과를 이터레이터로 반환\n",
    "def to_float(x): # 'value'\n",
    "    try:\n",
    "        fx = float(x)\n",
    "    except:\n",
    "        fx = -1000\n",
    "    return fx\n",
    "\n",
    "data = list( filter(lambda line: len(line) == 5, lines) ) # 각 행별로 데이터의 갯수가 5개인 행만 포함\n",
    "# list(  map(lambda line: to_float(line[4]), data) )\n",
    "data = list( map( lambda line: line[:2] + \\\n",
    "                               list( map( lambda x: to_float(x), line[2:] ) ), \\\n",
    "                  data ) )"
   ]
  },
  {
   "cell_type": "code",
   "execution_count": 24,
   "metadata": {},
   "outputs": [
    {
     "output_type": "execute_result",
     "data": {
      "text/plain": [
       "(40909,\n",
       " [['1907-10-01', '108', 13.5, 7.9, 20.7],\n",
       "  ['1907-10-02', '108', 16.2, 7.9, 22.0],\n",
       "  ['1907-10-03', '108', 16.2, 13.1, 21.3]])"
      ]
     },
     "metadata": {},
     "execution_count": 24
    }
   ],
   "source": [
    "len(data), data[:3]"
   ]
  },
  {
   "cell_type": "code",
   "execution_count": 25,
   "metadata": {},
   "outputs": [
    {
     "output_type": "stream",
     "name": "stdout",
     "text": [
      "2018-08-01 39.6\n"
     ]
    }
   ],
   "source": [
    "# 가장 더웠던 날 ( 최고 기온이 가장 높았던 날) 및 온도\n",
    "\n",
    "max_temperature = -1000\n",
    "max_date = ''\n",
    "\n",
    "for row in data:\n",
    "    if row[4] > max_temperature:\n",
    "        max_temperature = row[4] # 그날의 최고 온도\n",
    "        max_date = row[0] # 날짜 \n",
    "\n",
    "print(max_date, max_temperature)"
   ]
  },
  {
   "cell_type": "code",
   "execution_count": 27,
   "metadata": {},
   "outputs": [
    {
     "output_type": "stream",
     "name": "stdout",
     "text": [
      "2007-03-01 15.3\n"
     ]
    }
   ],
   "source": [
    "# 출생 이후 생일 중에서 가장 더웠던 날\n",
    "\n",
    "birth_year = '1995'\n",
    "birth_date = '03-01'\n",
    "max_temperature = -1000\n",
    "max_date = ''\n",
    "\n",
    "for row in data:\n",
    "    year = row[0][:4]\n",
    "    date = row[0][5:]\n",
    "\n",
    "    if birth_year <= year and birth_date == date: #출생 이후 생일 중에서\n",
    "        if row[4] > max_temperature:\n",
    "            max_temperature = row[4] # 그날의 최고 온도\n",
    "            max_date = row[0] # 날짜 \n",
    "\n",
    "print(max_date, max_temperature)"
   ]
  },
  {
   "cell_type": "code",
   "execution_count": 30,
   "metadata": {},
   "outputs": [
    {
     "output_type": "execute_result",
     "data": {
      "text/plain": [
       "[['1908-01-01', '108', -5.9, -9.1, -1.3],\n",
       " ['1908-01-02', '108', -7.7, -13.9, -3.0],\n",
       " ['1908-01-03', '108', -6.2, -10.8, -2.9],\n",
       " ['1908-01-04', '108', -7.5, -12.8, -1.7],\n",
       " ['1908-01-05', '108', -4.8, -11.3, -0.1]]"
      ]
     },
     "metadata": {},
     "execution_count": 30
    }
   ],
   "source": [
    "# 월별로 데이터 구성 1 (월을 key로 하는 딕셔너리로 구성) --> { '01': [], '02: []}\n",
    "\n",
    "data_by_month = {}\n",
    "\n",
    "for idx, row in enumerate(data):\n",
    "    month = row[0][5:7] # '2000-12-31' -> '12'\n",
    "    # print(month)\n",
    "    # if idx == 5: break\n",
    "    if month in data_by_month:\n",
    "        data_by_month[month].append(row)\n",
    "    else:\n",
    "        data_by_month[month] = [row]\n",
    "\n",
    "data_by_month['01'][:5]"
   ]
  },
  {
   "cell_type": "code",
   "execution_count": 31,
   "metadata": {},
   "outputs": [
    {
     "output_type": "execute_result",
     "data": {
      "text/plain": [
       "[['1908-01-01', '108', -5.9, -9.1, -1.3],\n",
       " ['1908-01-02', '108', -7.7, -13.9, -3.0],\n",
       " ['1908-01-03', '108', -6.2, -10.8, -2.9],\n",
       " ['1908-01-04', '108', -7.5, -12.8, -1.7],\n",
       " ['1908-01-05', '108', -4.8, -11.3, -0.1]]"
      ]
     },
     "metadata": {},
     "execution_count": 31
    }
   ],
   "source": [
    "# 월별로 데이터 구성 (월을 key로 하는 딕셔너리로 구성) --> { '01': [], '02: []}\n",
    "\n",
    "from collections import defaultdict # 딕셔너리에 키가 없으면 자동으로 만들고 다음 처리 수행\n",
    "\n",
    "data_by_month = defaultdict(list)\n",
    "\n",
    "for idx, row in enumerate(data):\n",
    "    month = row[0][5:7] # '2000-12-31' -> '12'\n",
    "    data_by_month[month].append(row)\n",
    "    \n",
    "data_by_month['01'][:5]"
   ]
  }
 ]
}