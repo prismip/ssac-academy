{
 "metadata": {
  "language_info": {
   "codemirror_mode": {
    "name": "ipython",
    "version": 3
   },
   "file_extension": ".py",
   "mimetype": "text/x-python",
   "name": "python",
   "nbconvert_exporter": "python",
   "pygments_lexer": "ipython3",
   "version": "3.7.9-final"
  },
  "orig_nbformat": 2,
  "kernelspec": {
   "name": "python3",
   "display_name": "Python 3"
  }
 },
 "nbformat": 4,
 "nbformat_minor": 2,
 "cells": [
  {
   "cell_type": "code",
   "execution_count": 2,
   "metadata": {},
   "outputs": [],
   "source": [
    "import csv # csv 파일 처리 모듈"
   ]
  },
  {
   "cell_type": "code",
   "execution_count": 6,
   "metadata": {},
   "outputs": [],
   "source": [
    "with open('data-files/seoul-temperature.csv', 'rt', encoding='utf-8') as f:\n",
    "    reader = csv.reader(f) # csv 파일 처리기 만들기\n",
    "\n",
    "    next(reader) # 한 행을 일고 다음 행으로 이동 (헤더를 읽어서 버리기)\n",
    "    lines = []\n",
    "    for line in reader:\n",
    "        lines.append(line)"
   ]
  },
  {
   "cell_type": "code",
   "execution_count": 9,
   "metadata": {},
   "outputs": [
    {
     "output_type": "execute_result",
     "data": {
      "text/plain": [
       "(40910,\n",
       " [['1907-10-01', '108', '13.5', '7.9', '20.7'],\n",
       "  ['1907-10-02', '108', '16.2', '7.9', '22'],\n",
       "  ['1907-10-03', '108', '16.2', '13.1', '21.3'],\n",
       "  ['1907-10-04', '108', '16.5', '11.2', '22'],\n",
       "  ['1907-10-05', '108', '17.6', '10.9', '25.4']])"
      ]
     },
     "metadata": {},
     "execution_count": 9
    }
   ],
   "source": [
    "len(lines), lines[:5]"
   ]
  },
  {
   "cell_type": "code",
   "execution_count": 23,
   "metadata": {},
   "outputs": [],
   "source": [
    "# map(함수, 데이터) -> 데이터의 각 행에 함수를 적용해서 결과를 이터레이터로 반환\n",
    "def to_float(x): # 'value'\n",
    "    try:\n",
    "        fx = float(x)\n",
    "    except:\n",
    "        fx = -1000\n",
    "    return fx\n",
    "\n",
    "data = list( filter(lambda line: len(line) == 5, lines) ) # 각 행별로 데이터의 갯수가 5개인 행만 포함\n",
    "# list(  map(lambda line: to_float(line[4]), data) )\n",
    "data = list( map( lambda line: line[:2] + \\\n",
    "                               list( map( lambda x: to_float(x), line[2:] ) ), \\\n",
    "                  data ) )"
   ]
  },
  {
   "cell_type": "code",
   "execution_count": 24,
   "metadata": {},
   "outputs": [
    {
     "output_type": "execute_result",
     "data": {
      "text/plain": [
       "(40909,\n",
       " [['1907-10-01', '108', 13.5, 7.9, 20.7],\n",
       "  ['1907-10-02', '108', 16.2, 7.9, 22.0],\n",
       "  ['1907-10-03', '108', 16.2, 13.1, 21.3]])"
      ]
     },
     "metadata": {},
     "execution_count": 24
    }
   ],
   "source": [
    "len(data), data[:3]"
   ]
  },
  {
   "cell_type": "code",
   "execution_count": 25,
   "metadata": {},
   "outputs": [
    {
     "output_type": "stream",
     "name": "stdout",
     "text": [
      "2018-08-01 39.6\n"
     ]
    }
   ],
   "source": [
    "# 가장 더웠던 날 ( 최고 기온이 가장 높았던 날) 및 온도\n",
    "\n",
    "max_temperature = -1000\n",
    "max_date = ''\n",
    "\n",
    "for row in data:\n",
    "    if row[4] > max_temperature:\n",
    "        max_temperature = row[4] # 그날의 최고 온도\n",
    "        max_date = row[0] # 날짜 \n",
    "\n",
    "print(max_date, max_temperature)"
   ]
  },
  {
   "cell_type": "code",
   "execution_count": 27,
   "metadata": {},
   "outputs": [
    {
     "output_type": "stream",
     "name": "stdout",
     "text": [
      "2007-03-01 15.3\n"
     ]
    }
   ],
   "source": [
    "# 출생 이후 생일 중에서 가장 더웠던 날\n",
    "\n",
    "birth_year = '1995'\n",
    "birth_date = '03-01'\n",
    "max_temperature = -1000\n",
    "max_date = ''\n",
    "\n",
    "for row in data:\n",
    "    year = row[0][:4]\n",
    "    date = row[0][5:]\n",
    "\n",
    "    if birth_year <= year and birth_date == date: #출생 이후 생일 중에서\n",
    "        if row[4] > max_temperature:\n",
    "            max_temperature = row[4] # 그날의 최고 온도\n",
    "            max_date = row[0] # 날짜 \n",
    "\n",
    "print(max_date, max_temperature)"
   ]
  },
  {
   "cell_type": "code",
   "execution_count": 30,
   "metadata": {},
   "outputs": [
    {
     "output_type": "execute_result",
     "data": {
      "text/plain": [
       "[['1908-01-01', '108', -5.9, -9.1, -1.3],\n",
       " ['1908-01-02', '108', -7.7, -13.9, -3.0],\n",
       " ['1908-01-03', '108', -6.2, -10.8, -2.9],\n",
       " ['1908-01-04', '108', -7.5, -12.8, -1.7],\n",
       " ['1908-01-05', '108', -4.8, -11.3, -0.1]]"
      ]
     },
     "metadata": {},
     "execution_count": 30
    }
   ],
   "source": [
    "# 월별로 데이터 구성 1 (월을 key로 하는 딕셔너리로 구성) --> { '01': [], '02: []}\n",
    "\n",
    "data_by_month = {}\n",
    "\n",
    "for idx, row in enumerate(data):\n",
    "    month = row[0][5:7] # '2000-12-31' -> '12'\n",
    "    # print(month)\n",
    "    # if idx == 5: break\n",
    "    if month in data_by_month:\n",
    "        data_by_month[month].append(row)\n",
    "    else:\n",
    "        data_by_month[month] = [row]\n",
    "\n",
    "data_by_month['01'][:5]"
   ]
  },
  {
   "cell_type": "code",
   "execution_count": 31,
   "metadata": {},
   "outputs": [
    {
     "output_type": "execute_result",
     "data": {
      "text/plain": [
       "[['1908-01-01', '108', -5.9, -9.1, -1.3],\n",
       " ['1908-01-02', '108', -7.7, -13.9, -3.0],\n",
       " ['1908-01-03', '108', -6.2, -10.8, -2.9],\n",
       " ['1908-01-04', '108', -7.5, -12.8, -1.7],\n",
       " ['1908-01-05', '108', -4.8, -11.3, -0.1]]"
      ]
     },
     "metadata": {},
     "execution_count": 31
    }
   ],
   "source": [
    "# 월별로 데이터 구성 (월을 key로 하는 딕셔너리로 구성) --> { '01': [], '02: []}\n",
    "\n",
    "from collections import defaultdict # 딕셔너리에 키가 없으면 자동으로 만들고 다음 처리 수행\n",
    "\n",
    "data_by_month = defaultdict(list)\n",
    "\n",
    "for idx, row in enumerate(data):\n",
    "    month = row[0][5:7] # '2000-12-31' -> '12'\n",
    "    data_by_month[month].append(row)\n",
    "    \n",
    "data_by_month['01'][:5]"
   ]
  },
  {
   "cell_type": "code",
   "execution_count": 45,
   "metadata": {},
   "outputs": [
    {
     "output_type": "execute_result",
     "data": {
      "text/plain": [
       "10"
      ]
     },
     "metadata": {},
     "execution_count": 45
    }
   ],
   "source": [
    "# [ true일때 선택되는 값 ] if 조건식 else [ false일 때 선택되는 값 ]\n",
    "10 if len('hello') > 4 else 20"
   ]
  },
  {
   "cell_type": "code",
   "execution_count": 48,
   "metadata": {},
   "outputs": [
    {
     "output_type": "execute_result",
     "data": {
      "text/plain": [
       "16.31996512641674"
      ]
     },
     "metadata": {},
     "execution_count": 48
    }
   ],
   "source": [
    "def mean_temperature_by_month(month, t='max'):\n",
    "\n",
    "    month = \"{0:02d}\".format(month) # 8 -> \"08\"\n",
    "\n",
    "    # 'mean' -> 2, 'min' -> 3, 'max' -> 4\n",
    "    # idx = 2\n",
    "    # if t == 'max':\n",
    "    #     idx = 4\n",
    "    # elif t == 'min':\n",
    "    #     idx = 3\n",
    "    # else:\n",
    "    #     idx = 2\n",
    "\n",
    "    idx = 2 if t == 'mean' else 3 if t == 'min' else 4\n",
    "\n",
    "    total, cnt = 0, 0\n",
    "    for row in data:\n",
    "        if month == row[0][5:7]:\n",
    "            total += row[idx]\n",
    "            cnt += 1\n",
    "    return total / cnt\n",
    "\n",
    "def mean_temperature_by_month2(month, t='max'):\n",
    "\n",
    "    month = \"{0:02d}\".format(month) # 8 -> \"08\"\n",
    "    idx = 2 if t == 'mean' else 3 if t == 'min' else 4\n",
    "    total = 0\n",
    "    for row in data_by_month[month]:\n",
    "        total += row[idx]\n",
    "\n",
    "    return total / len(data_by_month[month])\n",
    "\n",
    "\n",
    "mean_temperature_by_month2(8, t='mean')"
   ]
  },
  {
   "cell_type": "code",
   "execution_count": 54,
   "metadata": {},
   "outputs": [
    {
     "output_type": "execute_result",
     "data": {
      "text/plain": [
       "[(5, 10.664141705069124),\n",
       " (4, 10.63273809523806),\n",
       " (10, 10.318184413359885),\n",
       " (6, 9.576666666666668),\n",
       " (3, 9.408006912442357),\n",
       " (9, 9.240596125186277),\n",
       " (11, 9.236428571428517),\n",
       " (2, 8.696334913112256),\n",
       " (1, 8.273041474654445),\n",
       " (12, 8.10822548173708),\n",
       " (8, 7.887852368497473),\n",
       " (7, 7.244210829493063)]"
      ]
     },
     "metadata": {},
     "execution_count": 54
    }
   ],
   "source": [
    "# 1년 중 일교차가 가장 큰 달 (max - min) 평균\n",
    "\n",
    "gap_by_month = []\n",
    "for month in range(1, 13):\n",
    "    mx = mean_temperature_by_month2(month, 'max')\n",
    "    mn = mean_temperature_by_month2(month, 'min')\n",
    "    gap_by_month.append(( month, (mx - mn) ))\n",
    "\n",
    "# print( gap_by_month )\n",
    "gap_by_month.sort(key=lambda x: x[1], reverse=True)\n",
    "gap_by_month"
   ]
  },
  {
   "cell_type": "code",
   "execution_count": 56,
   "metadata": {},
   "outputs": [
    {
     "output_type": "execute_result",
     "data": {
      "text/plain": [
       "((5, 10.664141705069124), [(5, 10.664141705069124)])"
      ]
     },
     "metadata": {},
     "execution_count": 56
    }
   ],
   "source": [
    "gap_by_month[0], gap_by_month[:1]"
   ]
  },
  {
   "cell_type": "code",
   "execution_count": 60,
   "metadata": {},
   "outputs": [],
   "source": [
    "def pop_per_age_by_region(region):\n",
    "    \"\"\"\n",
    "    동네이름을 사용해서 연령별 인구데이터를 검색하는 함수\n",
    "    \"\"\"\n",
    "\n",
    "\n",
    "    with open('data-files/age.csv', 'rt', encoding='utf-8') as f:\n",
    "        reader = csv.reader(f)\n",
    "        \n",
    "        result = []\n",
    "        for line in reader:\n",
    "            if region in line[0]:\n",
    "                result.append(line[:1] + [ int(x.replace(',', '')) for x in line[3:] ] )\n",
    "\n",
    "    return result"
   ]
  },
  {
   "cell_type": "code",
   "execution_count": 77,
   "metadata": {},
   "outputs": [],
   "source": [
    "result = pop_per_age_by_region('신촌')"
   ]
  },
  {
   "cell_type": "code",
   "execution_count": 78,
   "metadata": {},
   "outputs": [],
   "source": [
    "# result\n",
    "import matplotlib.pyplot as plt"
   ]
  },
  {
   "cell_type": "code",
   "execution_count": 79,
   "metadata": {},
   "outputs": [
    {
     "output_type": "display_data",
     "data": {
      "text/plain": "<Figure size 864x432 with 1 Axes>",
      "image/svg+xml": "<?xml version=\"1.0\" encoding=\"utf-8\" standalone=\"no\"?>\r\n<!DOCTYPE svg PUBLIC \"-//W3C//DTD SVG 1.1//EN\"\r\n  \"http://www.w3.org/Graphics/SVG/1.1/DTD/svg11.dtd\">\r\n<!-- Created with matplotlib (https://matplotlib.org/) -->\r\n<svg height=\"370.91625pt\" version=\"1.1\" viewBox=\"0 0 723.765625 370.91625\" width=\"723.765625pt\" xmlns=\"http://www.w3.org/2000/svg\" xmlns:xlink=\"http://www.w3.org/1999/xlink\">\r\n <metadata>\r\n  <rdf:RDF xmlns:cc=\"http://creativecommons.org/ns#\" xmlns:dc=\"http://purl.org/dc/elements/1.1/\" xmlns:rdf=\"http://www.w3.org/1999/02/22-rdf-syntax-ns#\">\r\n   <cc:Work>\r\n    <dc:type rdf:resource=\"http://purl.org/dc/dcmitype/StillImage\"/>\r\n    <dc:date>2020-12-07T16:56:12.896679</dc:date>\r\n    <dc:format>image/svg+xml</dc:format>\r\n    <dc:creator>\r\n     <cc:Agent>\r\n      <dc:title>Matplotlib v3.3.3, https://matplotlib.org/</dc:title>\r\n     </cc:Agent>\r\n    </dc:creator>\r\n   </cc:Work>\r\n  </rdf:RDF>\r\n </metadata>\r\n <defs>\r\n  <style type=\"text/css\">*{stroke-linecap:butt;stroke-linejoin:round;}</style>\r\n </defs>\r\n <g id=\"figure_1\">\r\n  <g id=\"patch_1\">\r\n   <path d=\"M 0 370.91625 \r\nL 723.765625 370.91625 \r\nL 723.765625 0 \r\nL 0 0 \r\nz\r\n\" style=\"fill:none;\"/>\r\n  </g>\r\n  <g id=\"axes_1\">\r\n   <g id=\"patch_2\">\r\n    <path d=\"M 46.965625 333.36 \r\nL 716.565625 333.36 \r\nL 716.565625 7.2 \r\nL 46.965625 7.2 \r\nz\r\n\" style=\"fill:#ffffff;\"/>\r\n   </g>\r\n   <g id=\"matplotlib.axis_1\">\r\n    <g id=\"xtick_1\">\r\n     <g id=\"line2d_1\">\r\n      <defs>\r\n       <path d=\"M 0 0 \r\nL 0 3.5 \r\n\" id=\"m9fd52a46ce\" style=\"stroke:#000000;stroke-width:0.8;\"/>\r\n      </defs>\r\n      <g>\r\n       <use style=\"stroke:#000000;stroke-width:0.8;\" x=\"77.401989\" xlink:href=\"#m9fd52a46ce\" y=\"333.36\"/>\r\n      </g>\r\n     </g>\r\n     <g id=\"text_1\">\r\n      <!-- 0 -->\r\n      <g transform=\"translate(74.220739 347.958438)scale(0.1 -0.1)\">\r\n       <defs>\r\n        <path d=\"M 31.78125 66.40625 \r\nQ 24.171875 66.40625 20.328125 58.90625 \r\nQ 16.5 51.421875 16.5 36.375 \r\nQ 16.5 21.390625 20.328125 13.890625 \r\nQ 24.171875 6.390625 31.78125 6.390625 \r\nQ 39.453125 6.390625 43.28125 13.890625 \r\nQ 47.125 21.390625 47.125 36.375 \r\nQ 47.125 51.421875 43.28125 58.90625 \r\nQ 39.453125 66.40625 31.78125 66.40625 \r\nz\r\nM 31.78125 74.21875 \r\nQ 44.046875 74.21875 50.515625 64.515625 \r\nQ 56.984375 54.828125 56.984375 36.375 \r\nQ 56.984375 17.96875 50.515625 8.265625 \r\nQ 44.046875 -1.421875 31.78125 -1.421875 \r\nQ 19.53125 -1.421875 13.0625 8.265625 \r\nQ 6.59375 17.96875 6.59375 36.375 \r\nQ 6.59375 54.828125 13.0625 64.515625 \r\nQ 19.53125 74.21875 31.78125 74.21875 \r\nz\r\n\" id=\"DejaVuSans-48\"/>\r\n       </defs>\r\n       <use xlink:href=\"#DejaVuSans-48\"/>\r\n      </g>\r\n     </g>\r\n    </g>\r\n    <g id=\"xtick_2\">\r\n     <g id=\"line2d_2\">\r\n      <g>\r\n       <use style=\"stroke:#000000;stroke-width:0.8;\" x=\"199.147443\" xlink:href=\"#m9fd52a46ce\" y=\"333.36\"/>\r\n      </g>\r\n     </g>\r\n     <g id=\"text_2\">\r\n      <!-- 20 -->\r\n      <g transform=\"translate(192.784943 347.958438)scale(0.1 -0.1)\">\r\n       <defs>\r\n        <path d=\"M 19.1875 8.296875 \r\nL 53.609375 8.296875 \r\nL 53.609375 0 \r\nL 7.328125 0 \r\nL 7.328125 8.296875 \r\nQ 12.9375 14.109375 22.625 23.890625 \r\nQ 32.328125 33.6875 34.8125 36.53125 \r\nQ 39.546875 41.84375 41.421875 45.53125 \r\nQ 43.3125 49.21875 43.3125 52.78125 \r\nQ 43.3125 58.59375 39.234375 62.25 \r\nQ 35.15625 65.921875 28.609375 65.921875 \r\nQ 23.96875 65.921875 18.8125 64.3125 \r\nQ 13.671875 62.703125 7.8125 59.421875 \r\nL 7.8125 69.390625 \r\nQ 13.765625 71.78125 18.9375 73 \r\nQ 24.125 74.21875 28.421875 74.21875 \r\nQ 39.75 74.21875 46.484375 68.546875 \r\nQ 53.21875 62.890625 53.21875 53.421875 \r\nQ 53.21875 48.921875 51.53125 44.890625 \r\nQ 49.859375 40.875 45.40625 35.40625 \r\nQ 44.1875 33.984375 37.640625 27.21875 \r\nQ 31.109375 20.453125 19.1875 8.296875 \r\nz\r\n\" id=\"DejaVuSans-50\"/>\r\n       </defs>\r\n       <use xlink:href=\"#DejaVuSans-50\"/>\r\n       <use x=\"63.623047\" xlink:href=\"#DejaVuSans-48\"/>\r\n      </g>\r\n     </g>\r\n    </g>\r\n    <g id=\"xtick_3\">\r\n     <g id=\"line2d_3\">\r\n      <g>\r\n       <use style=\"stroke:#000000;stroke-width:0.8;\" x=\"320.892898\" xlink:href=\"#m9fd52a46ce\" y=\"333.36\"/>\r\n      </g>\r\n     </g>\r\n     <g id=\"text_3\">\r\n      <!-- 40 -->\r\n      <g transform=\"translate(314.530398 347.958438)scale(0.1 -0.1)\">\r\n       <defs>\r\n        <path d=\"M 37.796875 64.3125 \r\nL 12.890625 25.390625 \r\nL 37.796875 25.390625 \r\nz\r\nM 35.203125 72.90625 \r\nL 47.609375 72.90625 \r\nL 47.609375 25.390625 \r\nL 58.015625 25.390625 \r\nL 58.015625 17.1875 \r\nL 47.609375 17.1875 \r\nL 47.609375 0 \r\nL 37.796875 0 \r\nL 37.796875 17.1875 \r\nL 4.890625 17.1875 \r\nL 4.890625 26.703125 \r\nz\r\n\" id=\"DejaVuSans-52\"/>\r\n       </defs>\r\n       <use xlink:href=\"#DejaVuSans-52\"/>\r\n       <use x=\"63.623047\" xlink:href=\"#DejaVuSans-48\"/>\r\n      </g>\r\n     </g>\r\n    </g>\r\n    <g id=\"xtick_4\">\r\n     <g id=\"line2d_4\">\r\n      <g>\r\n       <use style=\"stroke:#000000;stroke-width:0.8;\" x=\"442.638352\" xlink:href=\"#m9fd52a46ce\" y=\"333.36\"/>\r\n      </g>\r\n     </g>\r\n     <g id=\"text_4\">\r\n      <!-- 60 -->\r\n      <g transform=\"translate(436.275852 347.958438)scale(0.1 -0.1)\">\r\n       <defs>\r\n        <path d=\"M 33.015625 40.375 \r\nQ 26.375 40.375 22.484375 35.828125 \r\nQ 18.609375 31.296875 18.609375 23.390625 \r\nQ 18.609375 15.53125 22.484375 10.953125 \r\nQ 26.375 6.390625 33.015625 6.390625 \r\nQ 39.65625 6.390625 43.53125 10.953125 \r\nQ 47.40625 15.53125 47.40625 23.390625 \r\nQ 47.40625 31.296875 43.53125 35.828125 \r\nQ 39.65625 40.375 33.015625 40.375 \r\nz\r\nM 52.59375 71.296875 \r\nL 52.59375 62.3125 \r\nQ 48.875 64.0625 45.09375 64.984375 \r\nQ 41.3125 65.921875 37.59375 65.921875 \r\nQ 27.828125 65.921875 22.671875 59.328125 \r\nQ 17.53125 52.734375 16.796875 39.40625 \r\nQ 19.671875 43.65625 24.015625 45.921875 \r\nQ 28.375 48.1875 33.59375 48.1875 \r\nQ 44.578125 48.1875 50.953125 41.515625 \r\nQ 57.328125 34.859375 57.328125 23.390625 \r\nQ 57.328125 12.15625 50.6875 5.359375 \r\nQ 44.046875 -1.421875 33.015625 -1.421875 \r\nQ 20.359375 -1.421875 13.671875 8.265625 \r\nQ 6.984375 17.96875 6.984375 36.375 \r\nQ 6.984375 53.65625 15.1875 63.9375 \r\nQ 23.390625 74.21875 37.203125 74.21875 \r\nQ 40.921875 74.21875 44.703125 73.484375 \r\nQ 48.484375 72.75 52.59375 71.296875 \r\nz\r\n\" id=\"DejaVuSans-54\"/>\r\n       </defs>\r\n       <use xlink:href=\"#DejaVuSans-54\"/>\r\n       <use x=\"63.623047\" xlink:href=\"#DejaVuSans-48\"/>\r\n      </g>\r\n     </g>\r\n    </g>\r\n    <g id=\"xtick_5\">\r\n     <g id=\"line2d_5\">\r\n      <g>\r\n       <use style=\"stroke:#000000;stroke-width:0.8;\" x=\"564.383807\" xlink:href=\"#m9fd52a46ce\" y=\"333.36\"/>\r\n      </g>\r\n     </g>\r\n     <g id=\"text_5\">\r\n      <!-- 80 -->\r\n      <g transform=\"translate(558.021307 347.958438)scale(0.1 -0.1)\">\r\n       <defs>\r\n        <path d=\"M 31.78125 34.625 \r\nQ 24.75 34.625 20.71875 30.859375 \r\nQ 16.703125 27.09375 16.703125 20.515625 \r\nQ 16.703125 13.921875 20.71875 10.15625 \r\nQ 24.75 6.390625 31.78125 6.390625 \r\nQ 38.8125 6.390625 42.859375 10.171875 \r\nQ 46.921875 13.96875 46.921875 20.515625 \r\nQ 46.921875 27.09375 42.890625 30.859375 \r\nQ 38.875 34.625 31.78125 34.625 \r\nz\r\nM 21.921875 38.8125 \r\nQ 15.578125 40.375 12.03125 44.71875 \r\nQ 8.5 49.078125 8.5 55.328125 \r\nQ 8.5 64.0625 14.71875 69.140625 \r\nQ 20.953125 74.21875 31.78125 74.21875 \r\nQ 42.671875 74.21875 48.875 69.140625 \r\nQ 55.078125 64.0625 55.078125 55.328125 \r\nQ 55.078125 49.078125 51.53125 44.71875 \r\nQ 48 40.375 41.703125 38.8125 \r\nQ 48.828125 37.15625 52.796875 32.3125 \r\nQ 56.78125 27.484375 56.78125 20.515625 \r\nQ 56.78125 9.90625 50.3125 4.234375 \r\nQ 43.84375 -1.421875 31.78125 -1.421875 \r\nQ 19.734375 -1.421875 13.25 4.234375 \r\nQ 6.78125 9.90625 6.78125 20.515625 \r\nQ 6.78125 27.484375 10.78125 32.3125 \r\nQ 14.796875 37.15625 21.921875 38.8125 \r\nz\r\nM 18.3125 54.390625 \r\nQ 18.3125 48.734375 21.84375 45.5625 \r\nQ 25.390625 42.390625 31.78125 42.390625 \r\nQ 38.140625 42.390625 41.71875 45.5625 \r\nQ 45.3125 48.734375 45.3125 54.390625 \r\nQ 45.3125 60.0625 41.71875 63.234375 \r\nQ 38.140625 66.40625 31.78125 66.40625 \r\nQ 25.390625 66.40625 21.84375 63.234375 \r\nQ 18.3125 60.0625 18.3125 54.390625 \r\nz\r\n\" id=\"DejaVuSans-56\"/>\r\n       </defs>\r\n       <use xlink:href=\"#DejaVuSans-56\"/>\r\n       <use x=\"63.623047\" xlink:href=\"#DejaVuSans-48\"/>\r\n      </g>\r\n     </g>\r\n    </g>\r\n    <g id=\"xtick_6\">\r\n     <g id=\"line2d_6\">\r\n      <g>\r\n       <use style=\"stroke:#000000;stroke-width:0.8;\" x=\"686.129261\" xlink:href=\"#m9fd52a46ce\" y=\"333.36\"/>\r\n      </g>\r\n     </g>\r\n     <g id=\"text_6\">\r\n      <!-- 100 -->\r\n      <g transform=\"translate(676.585511 347.958438)scale(0.1 -0.1)\">\r\n       <defs>\r\n        <path d=\"M 12.40625 8.296875 \r\nL 28.515625 8.296875 \r\nL 28.515625 63.921875 \r\nL 10.984375 60.40625 \r\nL 10.984375 69.390625 \r\nL 28.421875 72.90625 \r\nL 38.28125 72.90625 \r\nL 38.28125 8.296875 \r\nL 54.390625 8.296875 \r\nL 54.390625 0 \r\nL 12.40625 0 \r\nz\r\n\" id=\"DejaVuSans-49\"/>\r\n       </defs>\r\n       <use xlink:href=\"#DejaVuSans-49\"/>\r\n       <use x=\"63.623047\" xlink:href=\"#DejaVuSans-48\"/>\r\n       <use x=\"127.246094\" xlink:href=\"#DejaVuSans-48\"/>\r\n      </g>\r\n     </g>\r\n    </g>\r\n    <g id=\"text_7\">\r\n     <!-- age -->\r\n     <g transform=\"translate(372.450781 361.636562)scale(0.1 -0.1)\">\r\n      <defs>\r\n       <path d=\"M 34.28125 27.484375 \r\nQ 23.390625 27.484375 19.1875 25 \r\nQ 14.984375 22.515625 14.984375 16.5 \r\nQ 14.984375 11.71875 18.140625 8.90625 \r\nQ 21.296875 6.109375 26.703125 6.109375 \r\nQ 34.1875 6.109375 38.703125 11.40625 \r\nQ 43.21875 16.703125 43.21875 25.484375 \r\nL 43.21875 27.484375 \r\nz\r\nM 52.203125 31.203125 \r\nL 52.203125 0 \r\nL 43.21875 0 \r\nL 43.21875 8.296875 \r\nQ 40.140625 3.328125 35.546875 0.953125 \r\nQ 30.953125 -1.421875 24.3125 -1.421875 \r\nQ 15.921875 -1.421875 10.953125 3.296875 \r\nQ 6 8.015625 6 15.921875 \r\nQ 6 25.140625 12.171875 29.828125 \r\nQ 18.359375 34.515625 30.609375 34.515625 \r\nL 43.21875 34.515625 \r\nL 43.21875 35.40625 \r\nQ 43.21875 41.609375 39.140625 45 \r\nQ 35.0625 48.390625 27.6875 48.390625 \r\nQ 23 48.390625 18.546875 47.265625 \r\nQ 14.109375 46.140625 10.015625 43.890625 \r\nL 10.015625 52.203125 \r\nQ 14.9375 54.109375 19.578125 55.046875 \r\nQ 24.21875 56 28.609375 56 \r\nQ 40.484375 56 46.34375 49.84375 \r\nQ 52.203125 43.703125 52.203125 31.203125 \r\nz\r\n\" id=\"DejaVuSans-97\"/>\r\n       <path d=\"M 45.40625 27.984375 \r\nQ 45.40625 37.75 41.375 43.109375 \r\nQ 37.359375 48.484375 30.078125 48.484375 \r\nQ 22.859375 48.484375 18.828125 43.109375 \r\nQ 14.796875 37.75 14.796875 27.984375 \r\nQ 14.796875 18.265625 18.828125 12.890625 \r\nQ 22.859375 7.515625 30.078125 7.515625 \r\nQ 37.359375 7.515625 41.375 12.890625 \r\nQ 45.40625 18.265625 45.40625 27.984375 \r\nz\r\nM 54.390625 6.78125 \r\nQ 54.390625 -7.171875 48.1875 -13.984375 \r\nQ 42 -20.796875 29.203125 -20.796875 \r\nQ 24.46875 -20.796875 20.265625 -20.09375 \r\nQ 16.0625 -19.390625 12.109375 -17.921875 \r\nL 12.109375 -9.1875 \r\nQ 16.0625 -11.328125 19.921875 -12.34375 \r\nQ 23.78125 -13.375 27.78125 -13.375 \r\nQ 36.625 -13.375 41.015625 -8.765625 \r\nQ 45.40625 -4.15625 45.40625 5.171875 \r\nL 45.40625 9.625 \r\nQ 42.625 4.78125 38.28125 2.390625 \r\nQ 33.9375 0 27.875 0 \r\nQ 17.828125 0 11.671875 7.65625 \r\nQ 5.515625 15.328125 5.515625 27.984375 \r\nQ 5.515625 40.671875 11.671875 48.328125 \r\nQ 17.828125 56 27.875 56 \r\nQ 33.9375 56 38.28125 53.609375 \r\nQ 42.625 51.21875 45.40625 46.390625 \r\nL 45.40625 54.6875 \r\nL 54.390625 54.6875 \r\nz\r\n\" id=\"DejaVuSans-103\"/>\r\n       <path d=\"M 56.203125 29.59375 \r\nL 56.203125 25.203125 \r\nL 14.890625 25.203125 \r\nQ 15.484375 15.921875 20.484375 11.0625 \r\nQ 25.484375 6.203125 34.421875 6.203125 \r\nQ 39.59375 6.203125 44.453125 7.46875 \r\nQ 49.3125 8.734375 54.109375 11.28125 \r\nL 54.109375 2.78125 \r\nQ 49.265625 0.734375 44.1875 -0.34375 \r\nQ 39.109375 -1.421875 33.890625 -1.421875 \r\nQ 20.796875 -1.421875 13.15625 6.1875 \r\nQ 5.515625 13.8125 5.515625 26.8125 \r\nQ 5.515625 40.234375 12.765625 48.109375 \r\nQ 20.015625 56 32.328125 56 \r\nQ 43.359375 56 49.78125 48.890625 \r\nQ 56.203125 41.796875 56.203125 29.59375 \r\nz\r\nM 47.21875 32.234375 \r\nQ 47.125 39.59375 43.09375 43.984375 \r\nQ 39.0625 48.390625 32.421875 48.390625 \r\nQ 24.90625 48.390625 20.390625 44.140625 \r\nQ 15.875 39.890625 15.1875 32.171875 \r\nz\r\n\" id=\"DejaVuSans-101\"/>\r\n      </defs>\r\n      <use xlink:href=\"#DejaVuSans-97\"/>\r\n      <use x=\"61.279297\" xlink:href=\"#DejaVuSans-103\"/>\r\n      <use x=\"124.755859\" xlink:href=\"#DejaVuSans-101\"/>\r\n     </g>\r\n    </g>\r\n   </g>\r\n   <g id=\"matplotlib.axis_2\">\r\n    <g id=\"ytick_1\">\r\n     <g id=\"line2d_7\">\r\n      <defs>\r\n       <path d=\"M 0 0 \r\nL -3.5 0 \r\n\" id=\"m9d2152d809\" style=\"stroke:#000000;stroke-width:0.8;\"/>\r\n      </defs>\r\n      <g>\r\n       <use style=\"stroke:#000000;stroke-width:0.8;\" x=\"46.965625\" xlink:href=\"#m9d2152d809\" y=\"318.534545\"/>\r\n      </g>\r\n     </g>\r\n     <g id=\"text_8\">\r\n      <!-- 0 -->\r\n      <g transform=\"translate(33.603125 322.333764)scale(0.1 -0.1)\">\r\n       <use xlink:href=\"#DejaVuSans-48\"/>\r\n      </g>\r\n     </g>\r\n    </g>\r\n    <g id=\"ytick_2\">\r\n     <g id=\"line2d_8\">\r\n      <g>\r\n       <use style=\"stroke:#000000;stroke-width:0.8;\" x=\"46.965625\" xlink:href=\"#m9d2152d809\" y=\"254.355089\"/>\r\n      </g>\r\n     </g>\r\n     <g id=\"text_9\">\r\n      <!-- 200 -->\r\n      <g transform=\"translate(20.878125 258.154307)scale(0.1 -0.1)\">\r\n       <use xlink:href=\"#DejaVuSans-50\"/>\r\n       <use x=\"63.623047\" xlink:href=\"#DejaVuSans-48\"/>\r\n       <use x=\"127.246094\" xlink:href=\"#DejaVuSans-48\"/>\r\n      </g>\r\n     </g>\r\n    </g>\r\n    <g id=\"ytick_3\">\r\n     <g id=\"line2d_9\">\r\n      <g>\r\n       <use style=\"stroke:#000000;stroke-width:0.8;\" x=\"46.965625\" xlink:href=\"#m9d2152d809\" y=\"190.175632\"/>\r\n      </g>\r\n     </g>\r\n     <g id=\"text_10\">\r\n      <!-- 400 -->\r\n      <g transform=\"translate(20.878125 193.97485)scale(0.1 -0.1)\">\r\n       <use xlink:href=\"#DejaVuSans-52\"/>\r\n       <use x=\"63.623047\" xlink:href=\"#DejaVuSans-48\"/>\r\n       <use x=\"127.246094\" xlink:href=\"#DejaVuSans-48\"/>\r\n      </g>\r\n     </g>\r\n    </g>\r\n    <g id=\"ytick_4\">\r\n     <g id=\"line2d_10\">\r\n      <g>\r\n       <use style=\"stroke:#000000;stroke-width:0.8;\" x=\"46.965625\" xlink:href=\"#m9d2152d809\" y=\"125.996175\"/>\r\n      </g>\r\n     </g>\r\n     <g id=\"text_11\">\r\n      <!-- 600 -->\r\n      <g transform=\"translate(20.878125 129.795393)scale(0.1 -0.1)\">\r\n       <use xlink:href=\"#DejaVuSans-54\"/>\r\n       <use x=\"63.623047\" xlink:href=\"#DejaVuSans-48\"/>\r\n       <use x=\"127.246094\" xlink:href=\"#DejaVuSans-48\"/>\r\n      </g>\r\n     </g>\r\n    </g>\r\n    <g id=\"ytick_5\">\r\n     <g id=\"line2d_11\">\r\n      <g>\r\n       <use style=\"stroke:#000000;stroke-width:0.8;\" x=\"46.965625\" xlink:href=\"#m9d2152d809\" y=\"61.816718\"/>\r\n      </g>\r\n     </g>\r\n     <g id=\"text_12\">\r\n      <!-- 800 -->\r\n      <g transform=\"translate(20.878125 65.615937)scale(0.1 -0.1)\">\r\n       <use xlink:href=\"#DejaVuSans-56\"/>\r\n       <use x=\"63.623047\" xlink:href=\"#DejaVuSans-48\"/>\r\n       <use x=\"127.246094\" xlink:href=\"#DejaVuSans-48\"/>\r\n      </g>\r\n     </g>\r\n    </g>\r\n    <g id=\"text_13\">\r\n     <!-- population -->\r\n     <g transform=\"translate(14.798438 196.887031)rotate(-90)scale(0.1 -0.1)\">\r\n      <defs>\r\n       <path d=\"M 18.109375 8.203125 \r\nL 18.109375 -20.796875 \r\nL 9.078125 -20.796875 \r\nL 9.078125 54.6875 \r\nL 18.109375 54.6875 \r\nL 18.109375 46.390625 \r\nQ 20.953125 51.265625 25.265625 53.625 \r\nQ 29.59375 56 35.59375 56 \r\nQ 45.5625 56 51.78125 48.09375 \r\nQ 58.015625 40.1875 58.015625 27.296875 \r\nQ 58.015625 14.40625 51.78125 6.484375 \r\nQ 45.5625 -1.421875 35.59375 -1.421875 \r\nQ 29.59375 -1.421875 25.265625 0.953125 \r\nQ 20.953125 3.328125 18.109375 8.203125 \r\nz\r\nM 48.6875 27.296875 \r\nQ 48.6875 37.203125 44.609375 42.84375 \r\nQ 40.53125 48.484375 33.40625 48.484375 \r\nQ 26.265625 48.484375 22.1875 42.84375 \r\nQ 18.109375 37.203125 18.109375 27.296875 \r\nQ 18.109375 17.390625 22.1875 11.75 \r\nQ 26.265625 6.109375 33.40625 6.109375 \r\nQ 40.53125 6.109375 44.609375 11.75 \r\nQ 48.6875 17.390625 48.6875 27.296875 \r\nz\r\n\" id=\"DejaVuSans-112\"/>\r\n       <path d=\"M 30.609375 48.390625 \r\nQ 23.390625 48.390625 19.1875 42.75 \r\nQ 14.984375 37.109375 14.984375 27.296875 \r\nQ 14.984375 17.484375 19.15625 11.84375 \r\nQ 23.34375 6.203125 30.609375 6.203125 \r\nQ 37.796875 6.203125 41.984375 11.859375 \r\nQ 46.1875 17.53125 46.1875 27.296875 \r\nQ 46.1875 37.015625 41.984375 42.703125 \r\nQ 37.796875 48.390625 30.609375 48.390625 \r\nz\r\nM 30.609375 56 \r\nQ 42.328125 56 49.015625 48.375 \r\nQ 55.71875 40.765625 55.71875 27.296875 \r\nQ 55.71875 13.875 49.015625 6.21875 \r\nQ 42.328125 -1.421875 30.609375 -1.421875 \r\nQ 18.84375 -1.421875 12.171875 6.21875 \r\nQ 5.515625 13.875 5.515625 27.296875 \r\nQ 5.515625 40.765625 12.171875 48.375 \r\nQ 18.84375 56 30.609375 56 \r\nz\r\n\" id=\"DejaVuSans-111\"/>\r\n       <path d=\"M 8.5 21.578125 \r\nL 8.5 54.6875 \r\nL 17.484375 54.6875 \r\nL 17.484375 21.921875 \r\nQ 17.484375 14.15625 20.5 10.265625 \r\nQ 23.53125 6.390625 29.59375 6.390625 \r\nQ 36.859375 6.390625 41.078125 11.03125 \r\nQ 45.3125 15.671875 45.3125 23.6875 \r\nL 45.3125 54.6875 \r\nL 54.296875 54.6875 \r\nL 54.296875 0 \r\nL 45.3125 0 \r\nL 45.3125 8.40625 \r\nQ 42.046875 3.421875 37.71875 1 \r\nQ 33.40625 -1.421875 27.6875 -1.421875 \r\nQ 18.265625 -1.421875 13.375 4.4375 \r\nQ 8.5 10.296875 8.5 21.578125 \r\nz\r\nM 31.109375 56 \r\nz\r\n\" id=\"DejaVuSans-117\"/>\r\n       <path d=\"M 9.421875 75.984375 \r\nL 18.40625 75.984375 \r\nL 18.40625 0 \r\nL 9.421875 0 \r\nz\r\n\" id=\"DejaVuSans-108\"/>\r\n       <path d=\"M 18.3125 70.21875 \r\nL 18.3125 54.6875 \r\nL 36.8125 54.6875 \r\nL 36.8125 47.703125 \r\nL 18.3125 47.703125 \r\nL 18.3125 18.015625 \r\nQ 18.3125 11.328125 20.140625 9.421875 \r\nQ 21.96875 7.515625 27.59375 7.515625 \r\nL 36.8125 7.515625 \r\nL 36.8125 0 \r\nL 27.59375 0 \r\nQ 17.1875 0 13.234375 3.875 \r\nQ 9.28125 7.765625 9.28125 18.015625 \r\nL 9.28125 47.703125 \r\nL 2.6875 47.703125 \r\nL 2.6875 54.6875 \r\nL 9.28125 54.6875 \r\nL 9.28125 70.21875 \r\nz\r\n\" id=\"DejaVuSans-116\"/>\r\n       <path d=\"M 9.421875 54.6875 \r\nL 18.40625 54.6875 \r\nL 18.40625 0 \r\nL 9.421875 0 \r\nz\r\nM 9.421875 75.984375 \r\nL 18.40625 75.984375 \r\nL 18.40625 64.59375 \r\nL 9.421875 64.59375 \r\nz\r\n\" id=\"DejaVuSans-105\"/>\r\n       <path d=\"M 54.890625 33.015625 \r\nL 54.890625 0 \r\nL 45.90625 0 \r\nL 45.90625 32.71875 \r\nQ 45.90625 40.484375 42.875 44.328125 \r\nQ 39.84375 48.1875 33.796875 48.1875 \r\nQ 26.515625 48.1875 22.3125 43.546875 \r\nQ 18.109375 38.921875 18.109375 30.90625 \r\nL 18.109375 0 \r\nL 9.078125 0 \r\nL 9.078125 54.6875 \r\nL 18.109375 54.6875 \r\nL 18.109375 46.1875 \r\nQ 21.34375 51.125 25.703125 53.5625 \r\nQ 30.078125 56 35.796875 56 \r\nQ 45.21875 56 50.046875 50.171875 \r\nQ 54.890625 44.34375 54.890625 33.015625 \r\nz\r\n\" id=\"DejaVuSans-110\"/>\r\n      </defs>\r\n      <use xlink:href=\"#DejaVuSans-112\"/>\r\n      <use x=\"63.476562\" xlink:href=\"#DejaVuSans-111\"/>\r\n      <use x=\"124.658203\" xlink:href=\"#DejaVuSans-112\"/>\r\n      <use x=\"188.134766\" xlink:href=\"#DejaVuSans-117\"/>\r\n      <use x=\"251.513672\" xlink:href=\"#DejaVuSans-108\"/>\r\n      <use x=\"279.296875\" xlink:href=\"#DejaVuSans-97\"/>\r\n      <use x=\"340.576172\" xlink:href=\"#DejaVuSans-116\"/>\r\n      <use x=\"379.785156\" xlink:href=\"#DejaVuSans-105\"/>\r\n      <use x=\"407.568359\" xlink:href=\"#DejaVuSans-111\"/>\r\n      <use x=\"468.75\" xlink:href=\"#DejaVuSans-110\"/>\r\n     </g>\r\n    </g>\r\n   </g>\r\n   <g id=\"line2d_12\">\r\n    <path clip-path=\"url(#pe25a7e7d2c)\" d=\"M 77.401989 276.817898 \r\nL 83.489261 290.295584 \r\nL 89.576534 285.161228 \r\nL 95.663807 301.526989 \r\nL 101.75108 298.638914 \r\nL 107.838352 303.131476 \r\nL 113.925625 299.601606 \r\nL 120.012898 300.2434 \r\nL 126.10017 295.750838 \r\nL 132.187443 297.997119 \r\nL 138.274716 293.825455 \r\nL 144.361989 293.18366 \r\nL 150.449261 290.937379 \r\nL 156.536534 291.900071 \r\nL 162.623807 297.997119 \r\nL 168.71108 300.564298 \r\nL 174.798352 297.997119 \r\nL 180.885625 291.900071 \r\nL 186.972898 288.370201 \r\nL 193.06017 255.31778 \r\nL 199.147443 186.966659 \r\nL 205.234716 145.250012 \r\nL 211.321989 119.899126 \r\nL 217.409261 65.988383 \r\nL 223.496534 35.182243 \r\nL 229.583807 22.025455 \r\nL 235.67108 29.085195 \r\nL 241.758352 54.43608 \r\nL 247.845625 60.854026 \r\nL 253.932898 98.719906 \r\nL 260.02017 143.645525 \r\nL 266.107443 176.056151 \r\nL 272.194716 183.436789 \r\nL 278.281989 208.466777 \r\nL 284.369261 222.586257 \r\nL 290.456534 237.026635 \r\nL 296.543807 233.496765 \r\nL 302.63108 237.66843 \r\nL 308.718352 244.72817 \r\nL 314.805625 253.071499 \r\nL 320.892898 244.407273 \r\nL 326.98017 252.750602 \r\nL 333.067443 262.056623 \r\nL 339.154716 262.698418 \r\nL 345.241989 260.13124 \r\nL 351.329261 253.713294 \r\nL 357.416534 252.429705 \r\nL 363.503807 251.78791 \r\nL 369.59108 255.31778 \r\nL 375.678352 254.034191 \r\nL 381.765625 249.541629 \r\nL 387.852898 239.593813 \r\nL 393.94017 251.78791 \r\nL 400.027443 246.653554 \r\nL 406.114716 260.13124 \r\nL 412.201989 255.31778 \r\nL 418.289261 259.489445 \r\nL 424.376534 259.168548 \r\nL 430.463807 261.735726 \r\nL 436.55108 256.60137 \r\nL 442.638352 250.825218 \r\nL 448.725625 271.683542 \r\nL 454.812898 269.116364 \r\nL 460.90017 269.437261 \r\nL 466.987443 274.571617 \r\nL 473.074716 272.646234 \r\nL 479.161989 280.347769 \r\nL 485.249261 287.086612 \r\nL 491.336534 271.683542 \r\nL 497.423807 291.258276 \r\nL 503.51108 280.347769 \r\nL 509.598352 283.877639 \r\nL 515.685625 283.877639 \r\nL 521.772898 279.385077 \r\nL 527.86017 290.616482 \r\nL 533.947443 292.220968 \r\nL 540.034716 290.616482 \r\nL 546.121989 290.295584 \r\nL 552.209261 285.161228 \r\nL 558.296534 290.937379 \r\nL 564.383807 289.332893 \r\nL 570.47108 296.071736 \r\nL 576.558352 291.900071 \r\nL 582.645625 297.355325 \r\nL 588.732898 303.452373 \r\nL 594.82017 302.810579 \r\nL 600.907443 308.907627 \r\nL 606.994716 310.833011 \r\nL 613.081989 313.721086 \r\nL 619.169261 312.758394 \r\nL 625.256534 312.437497 \r\nL 631.343807 313.079292 \r\nL 637.43108 314.041983 \r\nL 643.518352 316.930059 \r\nL 649.605625 315.004675 \r\nL 655.692898 315.967367 \r\nL 661.78017 317.571854 \r\nL 667.867443 317.250956 \r\nL 673.954716 317.250956 \r\nL 680.041989 317.571854 \r\nL 686.129261 311.153908 \r\n\" style=\"fill:none;stroke:#1f77b4;stroke-linecap:square;stroke-width:1.5;\"/>\r\n   </g>\r\n   <g id=\"line2d_13\">\r\n    <path clip-path=\"url(#pe25a7e7d2c)\" d=\"M 77.401989 304.735962 \r\nL 83.489261 300.2434 \r\nL 89.576534 300.885195 \r\nL 95.663807 299.601606 \r\nL 101.75108 303.452373 \r\nL 107.838352 299.601606 \r\nL 113.925625 301.206092 \r\nL 120.012898 302.168784 \r\nL 126.10017 302.489681 \r\nL 132.187443 302.810579 \r\nL 138.274716 300.2434 \r\nL 144.361989 302.810579 \r\nL 150.449261 306.019551 \r\nL 156.536534 300.885195 \r\nL 162.623807 304.735962 \r\nL 168.71108 309.228524 \r\nL 174.798352 307.944935 \r\nL 180.885625 303.452373 \r\nL 186.972898 302.168784 \r\nL 193.06017 307.30314 \r\nL 199.147443 301.206092 \r\nL 205.234716 302.168784 \r\nL 211.321989 300.564298 \r\nL 217.409261 298.318017 \r\nL 223.496534 294.788146 \r\nL 229.583807 294.788146 \r\nL 235.67108 290.295584 \r\nL 241.758352 292.862763 \r\nL 247.845625 286.765714 \r\nL 253.932898 286.444817 \r\nL 260.02017 291.900071 \r\nL 266.107443 283.556741 \r\nL 272.194716 288.049303 \r\nL 278.281989 288.691098 \r\nL 284.369261 286.765714 \r\nL 290.456534 294.788146 \r\nL 296.543807 295.429941 \r\nL 302.63108 289.974687 \r\nL 308.718352 286.444817 \r\nL 314.805625 294.788146 \r\nL 320.892898 295.429941 \r\nL 326.98017 291.579174 \r\nL 333.067443 296.71353 \r\nL 339.154716 295.750838 \r\nL 345.241989 296.071736 \r\nL 351.329261 295.429941 \r\nL 357.416534 289.974687 \r\nL 363.503807 294.467249 \r\nL 369.59108 291.579174 \r\nL 375.678352 292.862763 \r\nL 381.765625 296.071736 \r\nL 387.852898 293.18366 \r\nL 393.94017 293.825455 \r\nL 400.027443 304.094168 \r\nL 406.114716 303.77327 \r\nL 412.201989 303.131476 \r\nL 418.289261 299.922503 \r\nL 424.376534 302.489681 \r\nL 430.463807 299.922503 \r\nL 436.55108 296.071736 \r\nL 442.638352 298.318017 \r\nL 448.725625 301.206092 \r\nL 454.812898 299.601606 \r\nL 460.90017 297.676222 \r\nL 466.987443 304.415065 \r\nL 473.074716 302.489681 \r\nL 479.161989 301.206092 \r\nL 485.249261 303.452373 \r\nL 491.336534 303.131476 \r\nL 497.423807 307.944935 \r\nL 503.51108 310.191216 \r\nL 509.598352 310.833011 \r\nL 515.685625 308.907627 \r\nL 521.772898 311.153908 \r\nL 527.86017 312.437497 \r\nL 533.947443 311.795702 \r\nL 540.034716 310.512113 \r\nL 546.121989 313.721086 \r\nL 552.209261 312.437497 \r\nL 558.296534 314.362881 \r\nL 564.383807 314.362881 \r\nL 570.47108 315.325573 \r\nL 576.558352 315.004675 \r\nL 582.645625 316.609162 \r\nL 588.732898 315.64647 \r\nL 594.82017 316.288264 \r\nL 600.907443 315.967367 \r\nL 606.994716 315.967367 \r\nL 613.081989 317.571854 \r\nL 619.169261 317.892751 \r\nL 625.256534 316.930059 \r\nL 631.343807 317.892751 \r\nL 637.43108 316.930059 \r\nL 643.518352 318.213648 \r\nL 649.605625 318.213648 \r\nL 655.692898 318.213648 \r\nL 661.78017 318.213648 \r\nL 667.867443 318.534545 \r\nL 673.954716 318.534545 \r\nL 680.041989 318.213648 \r\nL 686.129261 318.534545 \r\n\" style=\"fill:none;stroke:#ff7f0e;stroke-linecap:square;stroke-width:1.5;\"/>\r\n   </g>\r\n   <g id=\"patch_3\">\r\n    <path d=\"M 46.965625 333.36 \r\nL 46.965625 7.2 \r\n\" style=\"fill:none;stroke:#000000;stroke-linecap:square;stroke-linejoin:miter;stroke-width:0.8;\"/>\r\n   </g>\r\n   <g id=\"patch_4\">\r\n    <path d=\"M 716.565625 333.36 \r\nL 716.565625 7.2 \r\n\" style=\"fill:none;stroke:#000000;stroke-linecap:square;stroke-linejoin:miter;stroke-width:0.8;\"/>\r\n   </g>\r\n   <g id=\"patch_5\">\r\n    <path d=\"M 46.965625 333.36 \r\nL 716.565625 333.36 \r\n\" style=\"fill:none;stroke:#000000;stroke-linecap:square;stroke-linejoin:miter;stroke-width:0.8;\"/>\r\n   </g>\r\n   <g id=\"patch_6\">\r\n    <path d=\"M 46.965625 7.2 \r\nL 716.565625 7.2 \r\n\" style=\"fill:none;stroke:#000000;stroke-linecap:square;stroke-linejoin:miter;stroke-width:0.8;\"/>\r\n   </g>\r\n  </g>\r\n </g>\r\n <defs>\r\n  <clipPath id=\"pe25a7e7d2c\">\r\n   <rect height=\"326.16\" width=\"669.6\" x=\"46.965625\" y=\"7.2\"/>\r\n  </clipPath>\r\n </defs>\r\n</svg>\r\n",
      "image/png": "[encoded data removed]"
     },
     "metadata": {
      "needs_background": "light"
     }
    }
   ],
   "source": [
    "plt.figure(figsize=(12, 6))\n",
    "plt.plot(result[0][1:])\n",
    "plt.plot(result[1][1:])\n",
    "plt.xlabel('age')\n",
    "plt.ylabel('population')\n",
    "plt.show()"
   ]
  },
  {
   "cell_type": "code",
   "execution_count": 80,
   "metadata": {},
   "outputs": [],
   "source": [
    "# age-with-gender.csv\n",
    "# [ 행정구역, 전체인구통게, 남성인구통계, 여성인구통계]\n",
    "# 지역명 -> 지역의 연령별, 성별 인구데이터 찾기\n",
    "# 연령별 성비 도출\n",
    "\n",
    "def pop_per_age_and_gender_by_region(region):\n",
    "    \"\"\"\n",
    "    동네이름을 사용해서 연령별, 성별 인구데이터를 검색하는 함수\n",
    "    \"\"\"\n",
    "\n",
    "    with open('data-files/age-with-gender.csv', 'rt', encoding='utf-8') as f:\n",
    "        reader = csv.reader(f)\n",
    "        \n",
    "        result = []\n",
    "        for line in reader:\n",
    "            if region in line[0]:\n",
    "                result.append([ line[0], # 행정구역명 \n",
    "                                [ int(x.replace(',', '')) for x in line[106:207] ],     # 남성인구\n",
    "                                [ int(x.replace(',', '')) for x in line[209:310] ] ])   # 여성인구\n",
    "\n",
    "    return result"
   ]
  },
  {
   "cell_type": "code",
   "execution_count": 81,
   "metadata": {},
   "outputs": [],
   "source": [
    "result = pop_per_age_and_gender_by_region('양평')"
   ]
  },
  {
   "cell_type": "code",
   "execution_count": 83,
   "metadata": {},
   "outputs": [
    {
     "output_type": "stream",
     "name": "stdout",
     "text": [
      "1 4\n2 5\n3 6\n"
     ]
    }
   ],
   "source": [
    "for x, y in zip([1, 2, 3], [4, 5, 6]):\n",
    "    print(x, y)"
   ]
  },
  {
   "cell_type": "code",
   "execution_count": 87,
   "metadata": {},
   "outputs": [],
   "source": [
    "# 남성 / (남성 + 여성), 여성 / (남성 + 여성)\n",
    "ratio = []\n",
    "for male, female in zip(result[0][1], result[0][2]):\n",
    "    total = male + female\n",
    "    if total == 0:\n",
    "        ratio.append((0, 0))\n",
    "    else:\n",
    "        ratio.append( ( male / (male + female), female / (male + female) ) )\n",
    "\n",
    "# ratio[:]"
   ]
  },
  {
   "cell_type": "code",
   "execution_count": 89,
   "metadata": {},
   "outputs": [
    {
     "output_type": "display_data",
     "data": {
      "text/plain": "<Figure size 864x432 with 1 Axes>",
      "image/svg+xml": "<?xml version=\"1.0\" encoding=\"utf-8\" standalone=\"no\"?>\r\n<!DOCTYPE svg PUBLIC \"-//W3C//DTD SVG 1.1//EN\"\r\n  \"http://www.w3.org/Graphics/SVG/1.1/DTD/svg11.dtd\">\r\n<!-- Created with matplotlib (https://matplotlib.org/) -->\r\n<svg height=\"357.238125pt\" version=\"1.1\" viewBox=\"0 0 710.0875 357.238125\" width=\"710.0875pt\" xmlns=\"http://www.w3.org/2000/svg\" xmlns:xlink=\"http://www.w3.org/1999/xlink\">\r\n <metadata>\r\n  <rdf:RDF xmlns:cc=\"http://creativecommons.org/ns#\" xmlns:dc=\"http://purl.org/dc/elements/1.1/\" xmlns:rdf=\"http://www.w3.org/1999/02/22-rdf-syntax-ns#\">\r\n   <cc:Work>\r\n    <dc:type rdf:resource=\"http://purl.org/dc/dcmitype/StillImage\"/>\r\n    <dc:date>2020-12-07T17:25:27.329142</dc:date>\r\n    <dc:format>image/svg+xml</dc:format>\r\n    <dc:creator>\r\n     <cc:Agent>\r\n      <dc:title>Matplotlib v3.3.3, https://matplotlib.org/</dc:title>\r\n     </cc:Agent>\r\n    </dc:creator>\r\n   </cc:Work>\r\n  </rdf:RDF>\r\n </metadata>\r\n <defs>\r\n  <style type=\"text/css\">*{stroke-linecap:butt;stroke-linejoin:round;}</style>\r\n </defs>\r\n <g id=\"figure_1\">\r\n  <g id=\"patch_1\">\r\n   <path d=\"M 0 357.238125 \r\nL 710.0875 357.238125 \r\nL 710.0875 0 \r\nL 0 0 \r\nz\r\n\" style=\"fill:none;\"/>\r\n  </g>\r\n  <g id=\"axes_1\">\r\n   <g id=\"patch_2\">\r\n    <path d=\"M 33.2875 333.36 \r\nL 702.8875 333.36 \r\nL 702.8875 7.2 \r\nL 33.2875 7.2 \r\nz\r\n\" style=\"fill:#ffffff;\"/>\r\n   </g>\r\n   <g id=\"matplotlib.axis_1\">\r\n    <g id=\"xtick_1\">\r\n     <g id=\"line2d_1\">\r\n      <defs>\r\n       <path d=\"M 0 0 \r\nL 0 3.5 \r\n\" id=\"mc50e0e1464\" style=\"stroke:#000000;stroke-width:0.8;\"/>\r\n      </defs>\r\n      <g>\r\n       <use style=\"stroke:#000000;stroke-width:0.8;\" x=\"63.723864\" xlink:href=\"#mc50e0e1464\" y=\"333.36\"/>\r\n      </g>\r\n     </g>\r\n     <g id=\"text_1\">\r\n      <!-- 0 -->\r\n      <g transform=\"translate(60.542614 347.958438)scale(0.1 -0.1)\">\r\n       <defs>\r\n        <path d=\"M 31.78125 66.40625 \r\nQ 24.171875 66.40625 20.328125 58.90625 \r\nQ 16.5 51.421875 16.5 36.375 \r\nQ 16.5 21.390625 20.328125 13.890625 \r\nQ 24.171875 6.390625 31.78125 6.390625 \r\nQ 39.453125 6.390625 43.28125 13.890625 \r\nQ 47.125 21.390625 47.125 36.375 \r\nQ 47.125 51.421875 43.28125 58.90625 \r\nQ 39.453125 66.40625 31.78125 66.40625 \r\nz\r\nM 31.78125 74.21875 \r\nQ 44.046875 74.21875 50.515625 64.515625 \r\nQ 56.984375 54.828125 56.984375 36.375 \r\nQ 56.984375 17.96875 50.515625 8.265625 \r\nQ 44.046875 -1.421875 31.78125 -1.421875 \r\nQ 19.53125 -1.421875 13.0625 8.265625 \r\nQ 6.59375 17.96875 6.59375 36.375 \r\nQ 6.59375 54.828125 13.0625 64.515625 \r\nQ 19.53125 74.21875 31.78125 74.21875 \r\nz\r\n\" id=\"DejaVuSans-48\"/>\r\n       </defs>\r\n       <use xlink:href=\"#DejaVuSans-48\"/>\r\n      </g>\r\n     </g>\r\n    </g>\r\n    <g id=\"xtick_2\">\r\n     <g id=\"line2d_2\">\r\n      <g>\r\n       <use style=\"stroke:#000000;stroke-width:0.8;\" x=\"185.469318\" xlink:href=\"#mc50e0e1464\" y=\"333.36\"/>\r\n      </g>\r\n     </g>\r\n     <g id=\"text_2\">\r\n      <!-- 20 -->\r\n      <g transform=\"translate(179.106818 347.958438)scale(0.1 -0.1)\">\r\n       <defs>\r\n        <path d=\"M 19.1875 8.296875 \r\nL 53.609375 8.296875 \r\nL 53.609375 0 \r\nL 7.328125 0 \r\nL 7.328125 8.296875 \r\nQ 12.9375 14.109375 22.625 23.890625 \r\nQ 32.328125 33.6875 34.8125 36.53125 \r\nQ 39.546875 41.84375 41.421875 45.53125 \r\nQ 43.3125 49.21875 43.3125 52.78125 \r\nQ 43.3125 58.59375 39.234375 62.25 \r\nQ 35.15625 65.921875 28.609375 65.921875 \r\nQ 23.96875 65.921875 18.8125 64.3125 \r\nQ 13.671875 62.703125 7.8125 59.421875 \r\nL 7.8125 69.390625 \r\nQ 13.765625 71.78125 18.9375 73 \r\nQ 24.125 74.21875 28.421875 74.21875 \r\nQ 39.75 74.21875 46.484375 68.546875 \r\nQ 53.21875 62.890625 53.21875 53.421875 \r\nQ 53.21875 48.921875 51.53125 44.890625 \r\nQ 49.859375 40.875 45.40625 35.40625 \r\nQ 44.1875 33.984375 37.640625 27.21875 \r\nQ 31.109375 20.453125 19.1875 8.296875 \r\nz\r\n\" id=\"DejaVuSans-50\"/>\r\n       </defs>\r\n       <use xlink:href=\"#DejaVuSans-50\"/>\r\n       <use x=\"63.623047\" xlink:href=\"#DejaVuSans-48\"/>\r\n      </g>\r\n     </g>\r\n    </g>\r\n    <g id=\"xtick_3\">\r\n     <g id=\"line2d_3\">\r\n      <g>\r\n       <use style=\"stroke:#000000;stroke-width:0.8;\" x=\"307.214773\" xlink:href=\"#mc50e0e1464\" y=\"333.36\"/>\r\n      </g>\r\n     </g>\r\n     <g id=\"text_3\">\r\n      <!-- 40 -->\r\n      <g transform=\"translate(300.852273 347.958438)scale(0.1 -0.1)\">\r\n       <defs>\r\n        <path d=\"M 37.796875 64.3125 \r\nL 12.890625 25.390625 \r\nL 37.796875 25.390625 \r\nz\r\nM 35.203125 72.90625 \r\nL 47.609375 72.90625 \r\nL 47.609375 25.390625 \r\nL 58.015625 25.390625 \r\nL 58.015625 17.1875 \r\nL 47.609375 17.1875 \r\nL 47.609375 0 \r\nL 37.796875 0 \r\nL 37.796875 17.1875 \r\nL 4.890625 17.1875 \r\nL 4.890625 26.703125 \r\nz\r\n\" id=\"DejaVuSans-52\"/>\r\n       </defs>\r\n       <use xlink:href=\"#DejaVuSans-52\"/>\r\n       <use x=\"63.623047\" xlink:href=\"#DejaVuSans-48\"/>\r\n      </g>\r\n     </g>\r\n    </g>\r\n    <g id=\"xtick_4\">\r\n     <g id=\"line2d_4\">\r\n      <g>\r\n       <use style=\"stroke:#000000;stroke-width:0.8;\" x=\"428.960227\" xlink:href=\"#mc50e0e1464\" y=\"333.36\"/>\r\n      </g>\r\n     </g>\r\n     <g id=\"text_4\">\r\n      <!-- 60 -->\r\n      <g transform=\"translate(422.597727 347.958438)scale(0.1 -0.1)\">\r\n       <defs>\r\n        <path d=\"M 33.015625 40.375 \r\nQ 26.375 40.375 22.484375 35.828125 \r\nQ 18.609375 31.296875 18.609375 23.390625 \r\nQ 18.609375 15.53125 22.484375 10.953125 \r\nQ 26.375 6.390625 33.015625 6.390625 \r\nQ 39.65625 6.390625 43.53125 10.953125 \r\nQ 47.40625 15.53125 47.40625 23.390625 \r\nQ 47.40625 31.296875 43.53125 35.828125 \r\nQ 39.65625 40.375 33.015625 40.375 \r\nz\r\nM 52.59375 71.296875 \r\nL 52.59375 62.3125 \r\nQ 48.875 64.0625 45.09375 64.984375 \r\nQ 41.3125 65.921875 37.59375 65.921875 \r\nQ 27.828125 65.921875 22.671875 59.328125 \r\nQ 17.53125 52.734375 16.796875 39.40625 \r\nQ 19.671875 43.65625 24.015625 45.921875 \r\nQ 28.375 48.1875 33.59375 48.1875 \r\nQ 44.578125 48.1875 50.953125 41.515625 \r\nQ 57.328125 34.859375 57.328125 23.390625 \r\nQ 57.328125 12.15625 50.6875 5.359375 \r\nQ 44.046875 -1.421875 33.015625 -1.421875 \r\nQ 20.359375 -1.421875 13.671875 8.265625 \r\nQ 6.984375 17.96875 6.984375 36.375 \r\nQ 6.984375 53.65625 15.1875 63.9375 \r\nQ 23.390625 74.21875 37.203125 74.21875 \r\nQ 40.921875 74.21875 44.703125 73.484375 \r\nQ 48.484375 72.75 52.59375 71.296875 \r\nz\r\n\" id=\"DejaVuSans-54\"/>\r\n       </defs>\r\n       <use xlink:href=\"#DejaVuSans-54\"/>\r\n       <use x=\"63.623047\" xlink:href=\"#DejaVuSans-48\"/>\r\n      </g>\r\n     </g>\r\n    </g>\r\n    <g id=\"xtick_5\">\r\n     <g id=\"line2d_5\">\r\n      <g>\r\n       <use style=\"stroke:#000000;stroke-width:0.8;\" x=\"550.705682\" xlink:href=\"#mc50e0e1464\" y=\"333.36\"/>\r\n      </g>\r\n     </g>\r\n     <g id=\"text_5\">\r\n      <!-- 80 -->\r\n      <g transform=\"translate(544.343182 347.958438)scale(0.1 -0.1)\">\r\n       <defs>\r\n        <path d=\"M 31.78125 34.625 \r\nQ 24.75 34.625 20.71875 30.859375 \r\nQ 16.703125 27.09375 16.703125 20.515625 \r\nQ 16.703125 13.921875 20.71875 10.15625 \r\nQ 24.75 6.390625 31.78125 6.390625 \r\nQ 38.8125 6.390625 42.859375 10.171875 \r\nQ 46.921875 13.96875 46.921875 20.515625 \r\nQ 46.921875 27.09375 42.890625 30.859375 \r\nQ 38.875 34.625 31.78125 34.625 \r\nz\r\nM 21.921875 38.8125 \r\nQ 15.578125 40.375 12.03125 44.71875 \r\nQ 8.5 49.078125 8.5 55.328125 \r\nQ 8.5 64.0625 14.71875 69.140625 \r\nQ 20.953125 74.21875 31.78125 74.21875 \r\nQ 42.671875 74.21875 48.875 69.140625 \r\nQ 55.078125 64.0625 55.078125 55.328125 \r\nQ 55.078125 49.078125 51.53125 44.71875 \r\nQ 48 40.375 41.703125 38.8125 \r\nQ 48.828125 37.15625 52.796875 32.3125 \r\nQ 56.78125 27.484375 56.78125 20.515625 \r\nQ 56.78125 9.90625 50.3125 4.234375 \r\nQ 43.84375 -1.421875 31.78125 -1.421875 \r\nQ 19.734375 -1.421875 13.25 4.234375 \r\nQ 6.78125 9.90625 6.78125 20.515625 \r\nQ 6.78125 27.484375 10.78125 32.3125 \r\nQ 14.796875 37.15625 21.921875 38.8125 \r\nz\r\nM 18.3125 54.390625 \r\nQ 18.3125 48.734375 21.84375 45.5625 \r\nQ 25.390625 42.390625 31.78125 42.390625 \r\nQ 38.140625 42.390625 41.71875 45.5625 \r\nQ 45.3125 48.734375 45.3125 54.390625 \r\nQ 45.3125 60.0625 41.71875 63.234375 \r\nQ 38.140625 66.40625 31.78125 66.40625 \r\nQ 25.390625 66.40625 21.84375 63.234375 \r\nQ 18.3125 60.0625 18.3125 54.390625 \r\nz\r\n\" id=\"DejaVuSans-56\"/>\r\n       </defs>\r\n       <use xlink:href=\"#DejaVuSans-56\"/>\r\n       <use x=\"63.623047\" xlink:href=\"#DejaVuSans-48\"/>\r\n      </g>\r\n     </g>\r\n    </g>\r\n    <g id=\"xtick_6\">\r\n     <g id=\"line2d_6\">\r\n      <g>\r\n       <use style=\"stroke:#000000;stroke-width:0.8;\" x=\"672.451136\" xlink:href=\"#mc50e0e1464\" y=\"333.36\"/>\r\n      </g>\r\n     </g>\r\n     <g id=\"text_6\">\r\n      <!-- 100 -->\r\n      <g transform=\"translate(662.907386 347.958438)scale(0.1 -0.1)\">\r\n       <defs>\r\n        <path d=\"M 12.40625 8.296875 \r\nL 28.515625 8.296875 \r\nL 28.515625 63.921875 \r\nL 10.984375 60.40625 \r\nL 10.984375 69.390625 \r\nL 28.421875 72.90625 \r\nL 38.28125 72.90625 \r\nL 38.28125 8.296875 \r\nL 54.390625 8.296875 \r\nL 54.390625 0 \r\nL 12.40625 0 \r\nz\r\n\" id=\"DejaVuSans-49\"/>\r\n       </defs>\r\n       <use xlink:href=\"#DejaVuSans-49\"/>\r\n       <use x=\"63.623047\" xlink:href=\"#DejaVuSans-48\"/>\r\n       <use x=\"127.246094\" xlink:href=\"#DejaVuSans-48\"/>\r\n      </g>\r\n     </g>\r\n    </g>\r\n   </g>\r\n   <g id=\"matplotlib.axis_2\">\r\n    <g id=\"ytick_1\">\r\n     <g id=\"line2d_7\">\r\n      <defs>\r\n       <path d=\"M 0 0 \r\nL -3.5 0 \r\n\" id=\"m151388fa15\" style=\"stroke:#000000;stroke-width:0.8;\"/>\r\n      </defs>\r\n      <g>\r\n       <use style=\"stroke:#000000;stroke-width:0.8;\" x=\"33.2875\" xlink:href=\"#m151388fa15\" y=\"318.534545\"/>\r\n      </g>\r\n     </g>\r\n     <g id=\"text_7\">\r\n      <!-- 0 -->\r\n      <g transform=\"translate(19.925 322.333764)scale(0.1 -0.1)\">\r\n       <use xlink:href=\"#DejaVuSans-48\"/>\r\n      </g>\r\n     </g>\r\n    </g>\r\n    <g id=\"ytick_2\">\r\n     <g id=\"line2d_8\">\r\n      <g>\r\n       <use style=\"stroke:#000000;stroke-width:0.8;\" x=\"33.2875\" xlink:href=\"#m151388fa15\" y=\"270.710499\"/>\r\n      </g>\r\n     </g>\r\n     <g id=\"text_8\">\r\n      <!-- 50 -->\r\n      <g transform=\"translate(13.5625 274.509717)scale(0.1 -0.1)\">\r\n       <defs>\r\n        <path d=\"M 10.796875 72.90625 \r\nL 49.515625 72.90625 \r\nL 49.515625 64.59375 \r\nL 19.828125 64.59375 \r\nL 19.828125 46.734375 \r\nQ 21.96875 47.46875 24.109375 47.828125 \r\nQ 26.265625 48.1875 28.421875 48.1875 \r\nQ 40.625 48.1875 47.75 41.5 \r\nQ 54.890625 34.8125 54.890625 23.390625 \r\nQ 54.890625 11.625 47.5625 5.09375 \r\nQ 40.234375 -1.421875 26.90625 -1.421875 \r\nQ 22.3125 -1.421875 17.546875 -0.640625 \r\nQ 12.796875 0.140625 7.71875 1.703125 \r\nL 7.71875 11.625 \r\nQ 12.109375 9.234375 16.796875 8.0625 \r\nQ 21.484375 6.890625 26.703125 6.890625 \r\nQ 35.15625 6.890625 40.078125 11.328125 \r\nQ 45.015625 15.765625 45.015625 23.390625 \r\nQ 45.015625 31 40.078125 35.4375 \r\nQ 35.15625 39.890625 26.703125 39.890625 \r\nQ 22.75 39.890625 18.8125 39.015625 \r\nQ 14.890625 38.140625 10.796875 36.28125 \r\nz\r\n\" id=\"DejaVuSans-53\"/>\r\n       </defs>\r\n       <use xlink:href=\"#DejaVuSans-53\"/>\r\n       <use x=\"63.623047\" xlink:href=\"#DejaVuSans-48\"/>\r\n      </g>\r\n     </g>\r\n    </g>\r\n    <g id=\"ytick_3\">\r\n     <g id=\"line2d_9\">\r\n      <g>\r\n       <use style=\"stroke:#000000;stroke-width:0.8;\" x=\"33.2875\" xlink:href=\"#m151388fa15\" y=\"222.886452\"/>\r\n      </g>\r\n     </g>\r\n     <g id=\"text_9\">\r\n      <!-- 100 -->\r\n      <g transform=\"translate(7.2 226.68567)scale(0.1 -0.1)\">\r\n       <use xlink:href=\"#DejaVuSans-49\"/>\r\n       <use x=\"63.623047\" xlink:href=\"#DejaVuSans-48\"/>\r\n       <use x=\"127.246094\" xlink:href=\"#DejaVuSans-48\"/>\r\n      </g>\r\n     </g>\r\n    </g>\r\n    <g id=\"ytick_4\">\r\n     <g id=\"line2d_10\">\r\n      <g>\r\n       <use style=\"stroke:#000000;stroke-width:0.8;\" x=\"33.2875\" xlink:href=\"#m151388fa15\" y=\"175.062405\"/>\r\n      </g>\r\n     </g>\r\n     <g id=\"text_10\">\r\n      <!-- 150 -->\r\n      <g transform=\"translate(7.2 178.861623)scale(0.1 -0.1)\">\r\n       <use xlink:href=\"#DejaVuSans-49\"/>\r\n       <use x=\"63.623047\" xlink:href=\"#DejaVuSans-53\"/>\r\n       <use x=\"127.246094\" xlink:href=\"#DejaVuSans-48\"/>\r\n      </g>\r\n     </g>\r\n    </g>\r\n    <g id=\"ytick_5\">\r\n     <g id=\"line2d_11\">\r\n      <g>\r\n       <use style=\"stroke:#000000;stroke-width:0.8;\" x=\"33.2875\" xlink:href=\"#m151388fa15\" y=\"127.238358\"/>\r\n      </g>\r\n     </g>\r\n     <g id=\"text_11\">\r\n      <!-- 200 -->\r\n      <g transform=\"translate(7.2 131.037577)scale(0.1 -0.1)\">\r\n       <use xlink:href=\"#DejaVuSans-50\"/>\r\n       <use x=\"63.623047\" xlink:href=\"#DejaVuSans-48\"/>\r\n       <use x=\"127.246094\" xlink:href=\"#DejaVuSans-48\"/>\r\n      </g>\r\n     </g>\r\n    </g>\r\n    <g id=\"ytick_6\">\r\n     <g id=\"line2d_12\">\r\n      <g>\r\n       <use style=\"stroke:#000000;stroke-width:0.8;\" x=\"33.2875\" xlink:href=\"#m151388fa15\" y=\"79.414311\"/>\r\n      </g>\r\n     </g>\r\n     <g id=\"text_12\">\r\n      <!-- 250 -->\r\n      <g transform=\"translate(7.2 83.21353)scale(0.1 -0.1)\">\r\n       <use xlink:href=\"#DejaVuSans-50\"/>\r\n       <use x=\"63.623047\" xlink:href=\"#DejaVuSans-53\"/>\r\n       <use x=\"127.246094\" xlink:href=\"#DejaVuSans-48\"/>\r\n      </g>\r\n     </g>\r\n    </g>\r\n    <g id=\"ytick_7\">\r\n     <g id=\"line2d_13\">\r\n      <g>\r\n       <use style=\"stroke:#000000;stroke-width:0.8;\" x=\"33.2875\" xlink:href=\"#m151388fa15\" y=\"31.590264\"/>\r\n      </g>\r\n     </g>\r\n     <g id=\"text_13\">\r\n      <!-- 300 -->\r\n      <g transform=\"translate(7.2 35.389483)scale(0.1 -0.1)\">\r\n       <defs>\r\n        <path d=\"M 40.578125 39.3125 \r\nQ 47.65625 37.796875 51.625 33 \r\nQ 55.609375 28.21875 55.609375 21.1875 \r\nQ 55.609375 10.40625 48.1875 4.484375 \r\nQ 40.765625 -1.421875 27.09375 -1.421875 \r\nQ 22.515625 -1.421875 17.65625 -0.515625 \r\nQ 12.796875 0.390625 7.625 2.203125 \r\nL 7.625 11.71875 \r\nQ 11.71875 9.328125 16.59375 8.109375 \r\nQ 21.484375 6.890625 26.8125 6.890625 \r\nQ 36.078125 6.890625 40.9375 10.546875 \r\nQ 45.796875 14.203125 45.796875 21.1875 \r\nQ 45.796875 27.640625 41.28125 31.265625 \r\nQ 36.765625 34.90625 28.71875 34.90625 \r\nL 20.21875 34.90625 \r\nL 20.21875 43.015625 \r\nL 29.109375 43.015625 \r\nQ 36.375 43.015625 40.234375 45.921875 \r\nQ 44.09375 48.828125 44.09375 54.296875 \r\nQ 44.09375 59.90625 40.109375 62.90625 \r\nQ 36.140625 65.921875 28.71875 65.921875 \r\nQ 24.65625 65.921875 20.015625 65.03125 \r\nQ 15.375 64.15625 9.8125 62.3125 \r\nL 9.8125 71.09375 \r\nQ 15.4375 72.65625 20.34375 73.4375 \r\nQ 25.25 74.21875 29.59375 74.21875 \r\nQ 40.828125 74.21875 47.359375 69.109375 \r\nQ 53.90625 64.015625 53.90625 55.328125 \r\nQ 53.90625 49.265625 50.4375 45.09375 \r\nQ 46.96875 40.921875 40.578125 39.3125 \r\nz\r\n\" id=\"DejaVuSans-51\"/>\r\n       </defs>\r\n       <use xlink:href=\"#DejaVuSans-51\"/>\r\n       <use x=\"63.623047\" xlink:href=\"#DejaVuSans-48\"/>\r\n       <use x=\"127.246094\" xlink:href=\"#DejaVuSans-48\"/>\r\n      </g>\r\n     </g>\r\n    </g>\r\n   </g>\r\n   <g id=\"line2d_14\">\r\n    <path clip-path=\"url(#p06deba5c43)\" d=\"M 63.723864 234.364223 \r\nL 69.811136 218.104047 \r\nL 75.898409 235.320704 \r\nL 81.985682 241.059589 \r\nL 88.072955 231.49478 \r\nL 94.160227 233.407742 \r\nL 100.2475 248.711437 \r\nL 106.334773 238.190147 \r\nL 112.422045 241.059589 \r\nL 118.509318 253.493842 \r\nL 124.596591 252.537361 \r\nL 130.683864 248.711437 \r\nL 136.771136 244.885513 \r\nL 142.858409 245.841994 \r\nL 148.945682 249.667918 \r\nL 155.032955 237.233666 \r\nL 161.120227 232.451261 \r\nL 167.2075 242.01607 \r\nL 173.294773 230.538299 \r\nL 179.382045 190.3661 \r\nL 185.469318 202.800352 \r\nL 191.556591 180.80129 \r\nL 197.643864 209.495718 \r\nL 203.731136 185.583695 \r\nL 209.818409 194.192023 \r\nL 215.905682 163.584633 \r\nL 221.992955 138.716129 \r\nL 228.080227 138.716129 \r\nL 234.1675 93.761525 \r\nL 240.254773 66.980059 \r\nL 246.342045 55.502287 \r\nL 252.429318 77.501349 \r\nL 258.516591 22.025455 \r\nL 264.603864 46.893959 \r\nL 270.691136 43.068035 \r\nL 276.778409 47.85044 \r\nL 282.865682 62.197654 \r\nL 288.952955 82.283754 \r\nL 295.040227 97.587449 \r\nL 301.1275 85.153196 \r\nL 307.214773 152.106862 \r\nL 313.302045 134.890205 \r\nL 319.389318 167.410557 \r\nL 325.476591 164.541114 \r\nL 331.563864 146.367977 \r\nL 337.651136 188.453138 \r\nL 343.738409 148.280938 \r\nL 349.825682 166.454076 \r\nL 355.912955 162.628152 \r\nL 362.000227 138.716129 \r\nL 368.0875 146.367977 \r\nL 374.174773 130.107801 \r\nL 380.262045 151.150381 \r\nL 386.349318 181.757771 \r\nL 392.436591 176.975367 \r\nL 398.523864 151.150381 \r\nL 404.611136 164.541114 \r\nL 410.698409 186.540176 \r\nL 416.785682 198.017947 \r\nL 422.872955 182.714252 \r\nL 428.960227 176.018886 \r\nL 435.0475 177.931848 \r\nL 441.134773 165.497595 \r\nL 447.222045 194.192023 \r\nL 453.309318 218.104047 \r\nL 459.396591 206.626276 \r\nL 465.483864 231.49478 \r\nL 471.571136 245.841994 \r\nL 477.658409 253.493842 \r\nL 483.745682 270.710499 \r\nL 489.832955 258.276246 \r\nL 495.920227 262.10217 \r\nL 502.0075 246.798475 \r\nL 508.094773 257.319765 \r\nL 514.182045 281.231789 \r\nL 520.269318 268.797537 \r\nL 526.356591 278.362346 \r\nL 532.443864 286.970674 \r\nL 538.531136 278.362346 \r\nL 544.618409 296.535484 \r\nL 550.705682 291.753079 \r\nL 556.792955 283.144751 \r\nL 562.880227 292.70956 \r\nL 568.9675 296.535484 \r\nL 575.054773 301.317889 \r\nL 581.142045 300.361408 \r\nL 587.229318 304.187331 \r\nL 593.316591 313.752141 \r\nL 599.403864 308.969736 \r\nL 605.491136 314.708622 \r\nL 611.578409 312.79566 \r\nL 617.665682 316.621584 \r\nL 623.752955 312.79566 \r\nL 629.840227 317.578065 \r\nL 635.9275 318.534545 \r\nL 642.014773 317.578065 \r\nL 648.102045 316.621584 \r\nL 654.189318 317.578065 \r\nL 660.276591 318.534545 \r\nL 666.363864 317.578065 \r\nL 672.451136 316.621584 \r\n\" style=\"fill:none;stroke:#1f77b4;stroke-linecap:square;stroke-width:1.5;\"/>\r\n   </g>\r\n   <g id=\"line2d_15\">\r\n    <path clip-path=\"url(#p06deba5c43)\" d=\"M 63.723864 230.538299 \r\nL 69.811136 224.799413 \r\nL 75.898409 229.581818 \r\nL 81.985682 242.972551 \r\nL 88.072955 242.972551 \r\nL 94.160227 228.625337 \r\nL 100.2475 249.667918 \r\nL 106.334773 260.189208 \r\nL 112.422045 247.754956 \r\nL 118.509318 249.667918 \r\nL 124.596591 245.841994 \r\nL 130.683864 272.62346 \r\nL 136.771136 255.406804 \r\nL 142.858409 246.798475 \r\nL 148.945682 258.276246 \r\nL 155.032955 253.493842 \r\nL 161.120227 232.451261 \r\nL 167.2075 245.841994 \r\nL 173.294773 241.059589 \r\nL 179.382045 210.452199 \r\nL 185.469318 211.40868 \r\nL 191.556591 205.669795 \r\nL 197.643864 181.757771 \r\nL 203.731136 168.367038 \r\nL 209.818409 131.064282 \r\nL 215.905682 92.805044 \r\nL 221.992955 131.064282 \r\nL 228.080227 77.501349 \r\nL 234.1675 38.28563 \r\nL 240.254773 28.720821 \r\nL 246.342045 44.980997 \r\nL 252.429318 41.155073 \r\nL 258.516591 57.415249 \r\nL 264.603864 38.28563 \r\nL 270.691136 77.501349 \r\nL 276.778409 83.240235 \r\nL 282.865682 123.412434 \r\nL 288.952955 103.326334 \r\nL 295.040227 115.760587 \r\nL 301.1275 107.152258 \r\nL 307.214773 156.889267 \r\nL 313.302045 164.541114 \r\nL 319.389318 165.497595 \r\nL 325.476591 149.237419 \r\nL 331.563864 170.28 \r\nL 337.651136 174.105924 \r\nL 343.738409 153.063343 \r\nL 349.825682 142.542053 \r\nL 355.912955 190.3661 \r\nL 362.000227 116.717067 \r\nL 368.0875 166.454076 \r\nL 374.174773 147.324457 \r\nL 380.262045 176.018886 \r\nL 386.349318 174.105924 \r\nL 392.436591 193.235543 \r\nL 398.523864 191.322581 \r\nL 404.611136 200.88739 \r\nL 410.698409 200.88739 \r\nL 416.785682 176.975367 \r\nL 422.872955 164.541114 \r\nL 428.960227 167.410557 \r\nL 435.0475 178.888328 \r\nL 441.134773 204.713314 \r\nL 447.222045 208.539238 \r\nL 453.309318 224.799413 \r\nL 459.396591 208.539238 \r\nL 465.483864 232.451261 \r\nL 471.571136 226.712375 \r\nL 477.658409 232.451261 \r\nL 483.745682 259.232727 \r\nL 489.832955 252.537361 \r\nL 495.920227 242.01607 \r\nL 502.0075 243.929032 \r\nL 508.094773 252.537361 \r\nL 514.182045 264.015132 \r\nL 520.269318 278.362346 \r\nL 526.356591 266.884575 \r\nL 532.443864 265.928094 \r\nL 538.531136 267.841056 \r\nL 544.618409 258.276246 \r\nL 550.705682 281.231789 \r\nL 556.792955 274.536422 \r\nL 562.880227 284.101232 \r\nL 568.9675 287.927155 \r\nL 575.054773 291.753079 \r\nL 581.142045 298.448446 \r\nL 587.229318 297.491965 \r\nL 593.316591 297.491965 \r\nL 599.403864 297.491965 \r\nL 605.491136 307.056774 \r\nL 611.578409 299.404927 \r\nL 617.665682 314.708622 \r\nL 623.752955 312.79566 \r\nL 629.840227 303.23085 \r\nL 635.9275 315.665103 \r\nL 642.014773 317.578065 \r\nL 648.102045 314.708622 \r\nL 654.189318 318.534545 \r\nL 660.276591 318.534545 \r\nL 666.363864 318.534545 \r\nL 672.451136 314.708622 \r\n\" style=\"fill:none;stroke:#ff7f0e;stroke-linecap:square;stroke-width:1.5;\"/>\r\n   </g>\r\n   <g id=\"patch_3\">\r\n    <path d=\"M 33.2875 333.36 \r\nL 33.2875 7.2 \r\n\" style=\"fill:none;stroke:#000000;stroke-linecap:square;stroke-linejoin:miter;stroke-width:0.8;\"/>\r\n   </g>\r\n   <g id=\"patch_4\">\r\n    <path d=\"M 702.8875 333.36 \r\nL 702.8875 7.2 \r\n\" style=\"fill:none;stroke:#000000;stroke-linecap:square;stroke-linejoin:miter;stroke-width:0.8;\"/>\r\n   </g>\r\n   <g id=\"patch_5\">\r\n    <path d=\"M 33.2875 333.36 \r\nL 702.8875 333.36 \r\n\" style=\"fill:none;stroke:#000000;stroke-linecap:square;stroke-linejoin:miter;stroke-width:0.8;\"/>\r\n   </g>\r\n   <g id=\"patch_6\">\r\n    <path d=\"M 33.2875 7.2 \r\nL 702.8875 7.2 \r\n\" style=\"fill:none;stroke:#000000;stroke-linecap:square;stroke-linejoin:miter;stroke-width:0.8;\"/>\r\n   </g>\r\n  </g>\r\n </g>\r\n <defs>\r\n  <clipPath id=\"p06deba5c43\">\r\n   <rect height=\"326.16\" width=\"669.6\" x=\"33.2875\" y=\"7.2\"/>\r\n  </clipPath>\r\n </defs>\r\n</svg>\r\n",
      "image/png": "[encoded data removed]"
     },
     "metadata": {
      "needs_background": "light"
     }
    }
   ],
   "source": [
    "plt.figure(figsize=(12, 6))\n",
    "plt.plot(result[1][1])\n",
    "plt.plot(result[1][2])\n",
    "plt.show()"
   ]
  },
  {
   "cell_type": "code",
   "execution_count": null,
   "metadata": {},
   "outputs": [],
   "source": []
  },
  {
   "cell_type": "code",
   "execution_count": null,
   "metadata": {},
   "outputs": [],
   "source": [
    "# 유임승차비율이 가장 높은 역\n",
    "\n",
    "# 승하차 인원이 가장 많은 역 (이용객이 가장 많은 역)"
   ]
  },
  {
   "cell_type": "code",
   "execution_count": 101,
   "metadata": {},
   "outputs": [
    {
     "output_type": "execute_result",
     "data": {
      "text/plain": [
       "[['Nov-20', '1호선', '1', '서울역', 970425, 919628, 163629, 153605],\n",
       " ['Nov-20', '1호선', '10', '동묘앞', 123243, 131205, 130264, 131631],\n",
       " ['Nov-20', '1호선', '2', '시청', 470299, 476546, 61681, 59054],\n",
       " ['Nov-20', '1호선', '3', '종각', 779391, 757727, 111601, 103762],\n",
       " ['Nov-20', '1호선', '4', '종로3가', 415759, 380983, 253486, 236161]]"
      ]
     },
     "metadata": {},
     "execution_count": 101
    }
   ],
   "source": [
    "subway_data = []\n",
    "with open('data-files/subwayfee.csv', 'rt', encoding=\"utf-8\") as f:\n",
    "    reader = csv.reader(f)\n",
    "    next(reader) # 제목 행은 제거\n",
    "    for line in reader:\n",
    "        subway_data.append(line[:4] + \\\n",
    "                           [ int(x.replace(',', '')) for x in line[4:] ])\n",
    "\n",
    "subway_data[:5]"
   ]
  },
  {
   "cell_type": "code",
   "execution_count": 102,
   "metadata": {},
   "outputs": [],
   "source": [
    "for row in subway_data:\n",
    "    total = row[4] + row[6]\n",
    "    if total > 100000:\n",
    "        if len(row) > 8:\n",
    "            row[8] = round(row[4] / total, 2)\n",
    "        else:\n",
    "            row.append( round(row[4] / total, 2) )\n",
    "    else:\n",
    "        if len(row) > 8:\n",
    "            row[8] = 0\n",
    "        else:\n",
    "            row.append( 0 )"
   ]
  },
  {
   "cell_type": "code",
   "execution_count": 103,
   "metadata": {},
   "outputs": [
    {
     "output_type": "execute_result",
     "data": {
      "text/plain": [
       "[['Nov-20', '1호선', '1', '서울역', 970425, 919628, 163629, 153605, 0.86],\n",
       " ['Nov-20', '1호선', '10', '동묘앞', 123243, 131205, 130264, 131631, 0.49],\n",
       " ['Nov-20', '1호선', '2', '시청', 470299, 476546, 61681, 59054, 0.88],\n",
       " ['Nov-20', '1호선', '3', '종각', 779391, 757727, 111601, 103762, 0.87],\n",
       " ['Nov-20', '1호선', '4', '종로3가', 415759, 380983, 253486, 236161, 0.62],\n",
       " ['Nov-20', '1호선', '5', '종로5가', 342225, 351197, 205830, 197086, 0.62],\n",
       " ['Nov-20', '1호선', '6', '동대문', 209906, 213469, 106156, 108389, 0.66],\n",
       " ['Nov-20', '1호선', '7', '신설동', 263272, 252254, 100228, 93219, 0.72],\n",
       " ['Nov-20', '1호선', '8', '제기동', 223204, 216130, 240998, 257699, 0.48],\n",
       " ['Nov-20', '1호선', '9', '청량리(서울시립대입구)', 320602, 315752, 238000, 240168, 0.57]]"
      ]
     },
     "metadata": {},
     "execution_count": 103
    }
   ],
   "source": [
    "subway_data[:10]"
   ]
  },
  {
   "cell_type": "code",
   "execution_count": 109,
   "metadata": {},
   "outputs": [],
   "source": [
    "subway_data.sort(key=lambda row: row[8], reverse=True)"
   ]
  },
  {
   "cell_type": "code",
   "execution_count": 110,
   "metadata": {},
   "outputs": [
    {
     "output_type": "execute_result",
     "data": {
      "text/plain": [
       "[['Nov-20', '경부선', '121', '서울역', 145486, 37641, 8385, 1930, 0.95],\n",
       " ['Nov-20',\n",
       "  '공항철도 1호선',\n",
       "  '644',\n",
       "  '마곡나루(서울식물원)',\n",
       "  173255,\n",
       "  166982,\n",
       "  9365,\n",
       "  9389,\n",
       "  0.95],\n",
       " ['Nov-20', '2호선', '19', '한양대', 193058, 210112, 11357, 11982, 0.94],\n",
       " ['Nov-20', '2호선', '49', '홍대입구', 1306396, 1406694, 81110, 78081, 0.94],\n",
       " ['Nov-20', '9호선', '616', '여의도', 524073, 504168, 34742, 32231, 0.94],\n",
       " ['Nov-20', '9호선', '626', '신논현', 746935, 759289, 50327, 47134, 0.94],\n",
       " ['Nov-20', '공항철도 1호선', '642', '홍대입구', 221472, 228513, 14031, 13211, 0.94],\n",
       " ['Nov-20', '공항철도 1호선', '643', '디지털미디어시티', 313729, 280132, 19303, 18019, 0.94],\n",
       " ['Nov-20', '공항철도 1호선', '645', '김포공항', 301497, 169301, 19268, 12768, 0.94],\n",
       " ['Nov-20', '공항철도 1호선', '648', '청라국제도시', 155921, 145232, 9657, 9350, 0.94]]"
      ]
     },
     "metadata": {},
     "execution_count": 110
    }
   ],
   "source": [
    "subway_data[:10]"
   ]
  },
  {
   "cell_type": "code",
   "execution_count": 111,
   "metadata": {},
   "outputs": [],
   "source": [
    "for row in subway_data:\n",
    "    if len(row) > 9:\n",
    "        row[9] = sum(row[4:8])\n",
    "    else:\n",
    "        row.append( sum(row[4:8]) )    "
   ]
  },
  {
   "cell_type": "code",
   "execution_count": 113,
   "metadata": {},
   "outputs": [],
   "source": [
    "\n",
    "subway_data.sort(key=lambda row: row[9], reverse=True)"
   ]
  },
  {
   "cell_type": "code",
   "execution_count": 115,
   "metadata": {},
   "outputs": [
    {
     "output_type": "execute_result",
     "data": {
      "text/plain": [
       "[['Nov-20',\n",
       "  '2호선',\n",
       "  '32',\n",
       "  '강남',\n",
       "  2019373,\n",
       "  2046712,\n",
       "  144790,\n",
       "  129444,\n",
       "  0.93,\n",
       "  4340319],\n",
       " ['Nov-20',\n",
       "  '2호선',\n",
       "  '26',\n",
       "  '잠실(송파구청)',\n",
       "  1604232,\n",
       "  1593912,\n",
       "  148702,\n",
       "  142275,\n",
       "  0.92,\n",
       "  3489121],\n",
       " ['Nov-20',\n",
       "  '2호선',\n",
       "  '40',\n",
       "  '신림',\n",
       "  1494668,\n",
       "  1430345,\n",
       "  185327,\n",
       "  187900,\n",
       "  0.89,\n",
       "  3298240],\n",
       " ['Nov-20',\n",
       "  '2호선',\n",
       "  '42',\n",
       "  '구로디지털단지',\n",
       "  1418737,\n",
       "  1418268,\n",
       "  137282,\n",
       "  139421,\n",
       "  0.91,\n",
       "  3113708],\n",
       " ['Nov-20',\n",
       "  '2호선',\n",
       "  '49',\n",
       "  '홍대입구',\n",
       "  1306396,\n",
       "  1406694,\n",
       "  81110,\n",
       "  78081,\n",
       "  0.94,\n",
       "  2872281],\n",
       " ['Nov-20',\n",
       "  '2호선',\n",
       "  '29',\n",
       "  '삼성(무역센터)',\n",
       "  1201492,\n",
       "  1236299,\n",
       "  92887,\n",
       "  85746,\n",
       "  0.93,\n",
       "  2616424],\n",
       " ['Nov-20',\n",
       "  '2호선',\n",
       "  '44',\n",
       "  '신도림',\n",
       "  1149172,\n",
       "  1139108,\n",
       "  160860,\n",
       "  151174,\n",
       "  0.88,\n",
       "  2600314],\n",
       " ['Nov-20',\n",
       "  '2호선',\n",
       "  '30',\n",
       "  '선릉',\n",
       "  1178665,\n",
       "  1057066,\n",
       "  178261,\n",
       "  159007,\n",
       "  0.87,\n",
       "  2572999],\n",
       " ['Nov-20',\n",
       "  '2호선',\n",
       "  '31',\n",
       "  '역삼',\n",
       "  1053138,\n",
       "  1175501,\n",
       "  125579,\n",
       "  126605,\n",
       "  0.89,\n",
       "  2480823],\n",
       " ['Nov-20',\n",
       "  '2호선',\n",
       "  '38',\n",
       "  '서울대입구(관악구청)',\n",
       "  1103420,\n",
       "  1071620,\n",
       "  151581,\n",
       "  143923,\n",
       "  0.88,\n",
       "  2470544]]"
      ]
     },
     "metadata": {},
     "execution_count": 115
    }
   ],
   "source": [
    "subway_data[:10]"
   ]
  },
  {
   "cell_type": "code",
   "execution_count": null,
   "metadata": {},
   "outputs": [],
   "source": [
    "# subwaytime.csv 파일 사용\n",
    "\n",
    "# 지하철 시간대별 이용 현황 전처리\n",
    "\n",
    "# 출근 시간대 (7 ~ 9) 승하차 승객이 가장 많은 역\n",
    "\n",
    "# 23시 최대 이용역\n",
    "\n",
    "# 시간대별 승하차 인원이 가장 많은 역\n",
    "\n",
    "# 시간대별 전체 이용고객 수"
   ]
  }
 ]
}