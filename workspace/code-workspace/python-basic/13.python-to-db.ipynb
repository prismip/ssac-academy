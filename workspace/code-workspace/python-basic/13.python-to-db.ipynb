{
 "metadata": {
  "language_info": {
   "codemirror_mode": {
    "name": "ipython",
    "version": 3
   },
   "file_extension": ".py",
   "mimetype": "text/x-python",
   "name": "python",
   "nbconvert_exporter": "python",
   "pygments_lexer": "ipython3",
   "version": "3.7.7-final"
  },
  "orig_nbformat": 2,
  "kernelspec": {
   "name": "python3",
   "display_name": "Python 3.7.7 64-bit ('instructor': conda)",
   "metadata": {
    "interpreter": {
     "hash": "ef76dbb4bf534dd108614dbe9d93b8b5cd06288d3abbff079648723a6e0693d3"
    }
   }
  }
 },
 "nbformat": 4,
 "nbformat_minor": 2,
 "cells": [
  {
   "cell_type": "code",
   "execution_count": 1,
   "metadata": {},
   "outputs": [
    {
     "output_type": "stream",
     "name": "stdout",
     "text": [
      "Collecting pymysql\n  Using cached PyMySQL-0.10.1-py2.py3-none-any.whl (47 kB)\nInstalling collected packages: pymysql\nSuccessfully installed pymysql-0.10.1\n"
     ]
    }
   ],
   "source": [
    "# !pip install pymysql"
   ]
  },
  {
   "cell_type": "code",
   "execution_count": 2,
   "metadata": {},
   "outputs": [],
   "source": [
    "import pymysql"
   ]
  },
  {
   "cell_type": "code",
   "execution_count": 3,
   "metadata": {},
   "outputs": [],
   "source": [
    "conn = pymysql.connect(host='localhost', user='ssac', password='ssac', db='employees', charset='utf8')"
   ]
  },
  {
   "cell_type": "code",
   "execution_count": 4,
   "metadata": {},
   "outputs": [],
   "source": [
    "cursor = conn.cursor() # cursor : 명령을 전달하고 결과를 수신하는 도구"
   ]
  },
  {
   "cell_type": "code",
   "execution_count": 6,
   "metadata": {},
   "outputs": [
    {
     "output_type": "execute_result",
     "data": {
      "text/plain": [
       "10"
      ]
     },
     "metadata": {},
     "execution_count": 6
    }
   ],
   "source": [
    "sql = \"SELECT emp_no, first_name, last_name FROM employees LIMIT 10\"\n",
    "cursor.execute(sql) # 명령 실행"
   ]
  },
  {
   "cell_type": "code",
   "execution_count": 7,
   "metadata": {},
   "outputs": [],
   "source": [
    "rows = cursor.fetchall() # 명령 실행 결과를 읽어서 객체에 저장"
   ]
  },
  {
   "cell_type": "code",
   "execution_count": 9,
   "metadata": {},
   "outputs": [
    {
     "output_type": "stream",
     "name": "stdout",
     "text": [
      "<class 'tuple'> (10001, 'Georgi', 'Facello')\n<class 'tuple'> (10002, 'Bezalel', 'Simmel')\n<class 'tuple'> (10003, 'Parto', 'Bamford')\n<class 'tuple'> (10004, 'Chirstian', 'Koblick')\n<class 'tuple'> (10005, 'Kyoichi', 'Maliniak')\n<class 'tuple'> (10006, 'Anneke', 'Preusig')\n<class 'tuple'> (10007, 'Tzvetan', 'Zielinski')\n<class 'tuple'> (10008, 'Saniya', 'Kalloufi')\n<class 'tuple'> (10009, 'Sumant', 'Peac')\n<class 'tuple'> (10010, 'Duangkaew', 'Piveteau')\n"
     ]
    }
   ],
   "source": [
    "for row in rows:\n",
    "    print(type(row), row)"
   ]
  },
  {
   "cell_type": "code",
   "execution_count": 10,
   "metadata": {},
   "outputs": [],
   "source": [
    "conn.close()"
   ]
  },
  {
   "cell_type": "code",
   "execution_count": 12,
   "metadata": {},
   "outputs": [],
   "source": [
    "connection_info = { 'host': 'localhost', 'user': 'ssac', 'password': 'ssac', 'db': 'employees', 'charset': 'utf8' }"
   ]
  },
  {
   "cell_type": "code",
   "execution_count": 22,
   "metadata": {},
   "outputs": [],
   "source": [
    "# conn = pymysql.connect(host='localhost', user='ssac', password='ssac', db='employees', charset='utf8')\n",
    "conn = pymysql.connect(**connection_info)\n",
    "\n",
    "cursor = conn.cursor() # cursor : 명령을 전달하고 결과를 수신하는 도구\n",
    "\n",
    "sql = \"INSERT INTO employees VALUES (500005, '1990-12-11', 'JOHN', 'DOE', 'M', '2011-01-01')\"\n",
    "cursor.execute(sql) # 명령 실행\n",
    "conn.commit() # 지금까지 실행한 명령을 확정\n",
    "\n",
    "conn.close()"
   ]
  },
  {
   "cell_type": "code",
   "execution_count": 17,
   "metadata": {},
   "outputs": [],
   "source": [
    "conn.close()"
   ]
  },
  {
   "cell_type": "code",
   "execution_count": 23,
   "metadata": {},
   "outputs": [],
   "source": [
    "conn = pymysql.connect(**connection_info)\n",
    "\n",
    "cursor = conn.cursor() # cursor : 명령을 전달하고 결과를 수신하는 도구\n",
    "\n",
    "sql = \"CREATE TABLE mytable( idx int primary key auto_increment, info varchar(100) not null)\"\n",
    "cursor.execute(sql) # 명령 실행\n",
    "conn.commit() # 지금까지 실행한 명령을 확정\n",
    "\n",
    "conn.close()"
   ]
  },
  {
   "cell_type": "code",
   "execution_count": 26,
   "metadata": {},
   "outputs": [],
   "source": [
    "new_name = input('새 이름을 입력하세요: ')\n",
    "emp_no = 500005\n",
    "\n",
    "conn = pymysql.connect(**connection_info)\n",
    "\n",
    "cursor = conn.cursor() # cursor : 명령을 전달하고 결과를 수신하는 도구\n",
    "\n",
    "# sql = \"UPDATE employees SET first_name = '\" + new_name + \"' WHERE emp_no = 500002' \n",
    "sql = \"UPDATE employees SET first_name = %s WHERE emp_no = %s\"\n",
    "cursor.execute(sql, (new_name, emp_no)) # 명령 실행\n",
    "conn.commit() # 지금까지 실행한 명령을 확정\n",
    "\n",
    "conn.close()"
   ]
  }
 ]
}