{
 "metadata": {
  "language_info": {
   "codemirror_mode": {
    "name": "ipython",
    "version": 3
   },
   "file_extension": ".py",
   "mimetype": "text/x-python",
   "name": "python",
   "nbconvert_exporter": "python",
   "pygments_lexer": "ipython3",
   "version": "3.7.9-final"
  },
  "orig_nbformat": 2,
  "kernelspec": {
   "name": "python3",
   "display_name": "Python 3"
  }
 },
 "nbformat": 4,
 "nbformat_minor": 2,
 "cells": [
  {
   "cell_type": "code",
   "execution_count": 3,
   "metadata": {},
   "outputs": [],
   "source": [
    "from urllib import request\n",
    "\n",
    "# d = request.urlopen('http://www.daum.net')\n",
    "d = request.urlopen('http://developers.google.com')\n",
    "d.read().decode('utf-8')"
   ]
  },
  {
   "cell_type": "code",
   "execution_count": 7,
   "metadata": {},
   "outputs": [
    {
     "output_type": "stream",
     "name": "stdout",
     "text": [
      "Requirement already satisfied: requests in c:\\programdata\\miniconda3\\envs\\ssac-one\\lib\\site-packages (2.25.0)\n",
      "Requirement already satisfied: urllib3<1.27,>=1.21.1 in c:\\programdata\\miniconda3\\envs\\ssac-one\\lib\\site-packages (from requests) (1.26.2)\n",
      "Requirement already satisfied: certifi>=2017.4.17 in c:\\programdata\\miniconda3\\envs\\ssac-one\\lib\\site-packages (from requests) (2020.11.8)\n",
      "Requirement already satisfied: chardet<4,>=3.0.2 in c:\\programdata\\miniconda3\\envs\\ssac-one\\lib\\site-packages (from requests) (3.0.4)\n",
      "Requirement already satisfied: idna<3,>=2.5 in c:\\programdata\\miniconda3\\envs\\ssac-one\\lib\\site-packages (from requests) (2.10)\n"
     ]
    }
   ],
   "source": [
    "# !chcp 65001\n",
    "# !dir\n",
    "# !pip install requests"
   ]
  },
  {
   "cell_type": "code",
   "execution_count": 9,
   "metadata": {},
   "outputs": [
    {
     "output_type": "execute_result",
     "data": {
      "text/plain": [
       "200"
      ]
     },
     "metadata": {},
     "execution_count": 9
    }
   ],
   "source": [
    "import requests\n",
    "r = requests.get('http://www.naver.com')\n",
    "r.status_code\n",
    "r.text"
   ]
  },
  {
   "cell_type": "code",
   "execution_count": 10,
   "metadata": {},
   "outputs": [
    {
     "output_type": "stream",
     "name": "stdout",
     "text": [
      "Collecting selenium\n  Using cached selenium-3.141.0-py2.py3-none-any.whl (904 kB)\nRequirement already satisfied: urllib3 in c:\\programdata\\miniconda3\\envs\\ssac-one\\lib\\site-packages (from selenium) (1.26.2)\nInstalling collected packages: selenium\nSuccessfully installed selenium-3.141.0\n"
     ]
    }
   ],
   "source": [
    "# !pip install selenium"
   ]
  },
  {
   "cell_type": "code",
   "execution_count": 11,
   "metadata": {},
   "outputs": [],
   "source": [
    "from selenium import webdriver"
   ]
  },
  {
   "cell_type": "code",
   "execution_count": 16,
   "metadata": {},
   "outputs": [],
   "source": [
    "browser = \\\n",
    "    webdriver.Chrome(executable_path=r\"D:\\ssac-one2\\dev-tools\\chromedriver.exe\") # r\"\" -> escape sequence 동장하지 않는 문자열"
   ]
  },
  {
   "cell_type": "code",
   "execution_count": 17,
   "metadata": {},
   "outputs": [],
   "source": [
    "browser.get('http://python.org') # 브라우저의 주소입력창에 주로 입력하고 실행"
   ]
  },
  {
   "cell_type": "code",
   "execution_count": 19,
   "metadata": {},
   "outputs": [
    {
     "output_type": "stream",
     "name": "stdout",
     "text": [
      "Python\nPSF\nDocs\nPyPI\nJobs\nCommunity\n"
     ]
    }
   ],
   "source": [
    "menus = browser.find_elements_by_css_selector('#top ul.menu li')\n",
    "pypi = None\n",
    "for m in menus:\n",
    "    if m.text == \"PyPI\":\n",
    "        pypi = m\n",
    "    print(m.text)"
   ]
  },
  {
   "cell_type": "code",
   "execution_count": 21,
   "metadata": {},
   "outputs": [],
   "source": [
    "pypi.click()"
   ]
  },
  {
   "cell_type": "code",
   "execution_count": 22,
   "metadata": {},
   "outputs": [],
   "source": [
    "import time\n",
    "\n",
    "time.sleep(2) # 5초 대기\n",
    "\n",
    "browser.quit() # 브라우저 종료"
   ]
  },
  {
   "cell_type": "code",
   "execution_count": 23,
   "metadata": {},
   "outputs": [],
   "source": [
    "browser = webdriver.Chrome(executable_path=r\"D:\\ssac-one2\\dev-tools\\chromedriver.exe\")"
   ]
  },
  {
   "cell_type": "code",
   "execution_count": 24,
   "metadata": {},
   "outputs": [],
   "source": [
    "browser.get('http://www.daum.net')\n",
    "\n",
    "time.sleep(3)"
   ]
  },
  {
   "cell_type": "code",
   "execution_count": 37,
   "metadata": {},
   "outputs": [
    {
     "output_type": "stream",
     "name": "stdout",
     "text": [
      "15\n",
      "[0].사회적 거리두기\n",
      "[1].홍록기 공식입장\n",
      "[2].지식산업센터\n",
      "[3].박신혜 기부\n",
      "[4].대형분리수거함\n",
      "[5].코로나19 발생현황\n",
      "[6].밤마실 종로\n",
      "[7].투명스티커\n",
      "[8].진세연 MC확정\n",
      "[9].조립식판넬\n",
      "[10].조정석 수상소감\n",
      "[11].진 번아웃\n",
      "[12].청소용품\n",
      "[13].태일 미복귀전역\n",
      "[14].전원주택복층\n",
      "['사회적 거리두기', '홍록기 공식입장', '지식산업센터', '박신혜 기부', '대형분리수거함', '코로나19 발생현황', '밤마실 종로', '투명스티커', '진세연 MC확정', '조립식판넬', '조정석 수상소감', '진 번아웃', '청소용품', '태일 미복귀전역', '전원주택복층']\n"
     ]
    }
   ],
   "source": [
    "links = browser.find_elements_by_css_selector(\"div.slide_favorsch ul li a\")\n",
    "\n",
    "print(len(links))\n",
    "keywords = []\n",
    "for idx, link in enumerate(links): # enumerate(목록) -> 순서번호, 데이터\n",
    "    # print(\"[{0}].{1}\".format(idx, link.text))\n",
    "    print(\"[{0}].{1}\".format(idx, link.get_attribute('innerText')))\n",
    "    keywords.append(link.get_attribute('innerText'))\n",
    "\n",
    "print(keywords)\n",
    "\n",
    "with open('keywords.csv', 'at', encoding='utf-8') as f:\n",
    "    for idx, keyword in enumerate(keywords):\n",
    "        if idx > 0:\n",
    "            f.write(\",\")\n",
    "        f.write(keyword)\n",
    "    f.write('\\n')\n"
   ]
  },
  {
   "cell_type": "code",
   "execution_count": null,
   "metadata": {},
   "outputs": [],
   "source": []
  }
 ]
}