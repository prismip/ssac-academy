{
 "metadata": {
  "language_info": {
   "codemirror_mode": {
    "name": "ipython",
    "version": 3
   },
   "file_extension": ".py",
   "mimetype": "text/x-python",
   "name": "python",
   "nbconvert_exporter": "python",
   "pygments_lexer": "ipython3",
   "version": "3.7.9-final"
  },
  "orig_nbformat": 2,
  "kernelspec": {
   "name": "python3",
   "display_name": "Python 3"
  }
 },
 "nbformat": 4,
 "nbformat_minor": 2,
 "cells": [
  {
   "cell_type": "code",
   "execution_count": 8,
   "metadata": {},
   "outputs": [
    {
     "output_type": "error",
     "ename": "ZeroDivisionError",
     "evalue": "division by zero",
     "traceback": [
      "\u001b[1;31m---------------------------------------------------------------------------\u001b[0m",
      "\u001b[1;31mZeroDivisionError\u001b[0m                         Traceback (most recent call last)",
      "\u001b[1;32m<ipython-input-8-2317bcfd0d4e>\u001b[0m in \u001b[0;36m<module>\u001b[1;34m\u001b[0m\n\u001b[0;32m      1\u001b[0m \u001b[1;31m# f = open(\"나없는파일\", 'r')\u001b[0m\u001b[1;33m\u001b[0m\u001b[1;33m\u001b[0m\u001b[1;33m\u001b[0m\u001b[0m\n\u001b[1;32m----> 2\u001b[1;33m \u001b[1;36m10\u001b[0m \u001b[1;33m/\u001b[0m \u001b[1;36m0\u001b[0m\u001b[1;33m\u001b[0m\u001b[1;33m\u001b[0m\u001b[0m\n\u001b[0m\u001b[0;32m      3\u001b[0m \u001b[1;33m\u001b[0m\u001b[0m\n\u001b[0;32m      4\u001b[0m \u001b[0mprint\u001b[0m\u001b[1;33m(\u001b[0m\u001b[1;34m'정상인 경우'\u001b[0m\u001b[1;33m)\u001b[0m\u001b[1;33m\u001b[0m\u001b[1;33m\u001b[0m\u001b[0m\n",
      "\u001b[1;31mZeroDivisionError\u001b[0m: division by zero"
     ]
    }
   ],
   "source": [
    "# f = open(\"나없는파일\", 'r')\n",
    "10 / 0\n",
    "\n",
    "print('정상인 경우')"
   ]
  },
  {
   "cell_type": "code",
   "execution_count": 37,
   "metadata": {},
   "outputs": [
    {
     "output_type": "stream",
     "name": "stdout",
     "text": [
      "6\n정상실행\n오류가 없는 경우에만 실행\n오류 여부와 상관없이 실행\n정상 흐름\n"
     ]
    }
   ],
   "source": [
    "import random\n",
    "\n",
    "try:\n",
    "    no = random.randint(1, 6)\n",
    "    print(no)\n",
    "    if no == 1:\n",
    "        10 / 0\n",
    "    elif no == 2:\n",
    "        f = open('file.txt', 'rt')\n",
    "    elif no == 3:\n",
    "        raise NotImplementedError(\"서비스 준비중입니다.\", '감사합니다.')\n",
    "    else:\n",
    "        print(\"정상실행\")\n",
    "except Exception:\n",
    "    print(\"모든 오류는 여기서 처리됩니다.\")\n",
    "except ZeroDivisionError as e1:\n",
    "    print(e1)\n",
    "except FileNotFoundError as e2:\n",
    "    print(e2)\n",
    "except NotImplementedError as e3:\n",
    "    print(e3)\n",
    "else:\n",
    "    print(\"오류가 없는 경우에만 실행\")\n",
    "finally:\n",
    "    print('오류 여부와 상관없이 실행')\n",
    "    \n",
    "print(\"정상 흐름\")"
   ]
  },
  {
   "cell_type": "code",
   "execution_count": null,
   "metadata": {},
   "outputs": [],
   "source": []
  }
 ]
}