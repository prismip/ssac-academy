{
 "metadata": {
  "language_info": {
   "codemirror_mode": {
    "name": "ipython",
    "version": 3
   },
   "file_extension": ".py",
   "mimetype": "text/x-python",
   "name": "python",
   "nbconvert_exporter": "python",
   "pygments_lexer": "ipython3",
   "version": "3.7.9-final"
  },
  "orig_nbformat": 2,
  "kernelspec": {
   "name": "python3",
   "display_name": "Python 3"
  }
 },
 "nbformat": 4,
 "nbformat_minor": 2,
 "cells": [
  {
   "cell_type": "code",
   "execution_count": 8,
   "metadata": {},
   "outputs": [
    {
     "output_type": "error",
     "ename": "ZeroDivisionError",
     "evalue": "division by zero",
     "traceback": [
      "\u001b[1;31m---------------------------------------------------------------------------\u001b[0m",
      "\u001b[1;31mZeroDivisionError\u001b[0m                         Traceback (most recent call last)",
      "\u001b[1;32m<ipython-input-8-2317bcfd0d4e>\u001b[0m in \u001b[0;36m<module>\u001b[1;34m\u001b[0m\n\u001b[0;32m      1\u001b[0m \u001b[1;31m# f = open(\"나없는파일\", 'r')\u001b[0m\u001b[1;33m\u001b[0m\u001b[1;33m\u001b[0m\u001b[1;33m\u001b[0m\u001b[0m\n\u001b[1;32m----> 2\u001b[1;33m \u001b[1;36m10\u001b[0m \u001b[1;33m/\u001b[0m \u001b[1;36m0\u001b[0m\u001b[1;33m\u001b[0m\u001b[1;33m\u001b[0m\u001b[0m\n\u001b[0m\u001b[0;32m      3\u001b[0m \u001b[1;33m\u001b[0m\u001b[0m\n\u001b[0;32m      4\u001b[0m \u001b[0mprint\u001b[0m\u001b[1;33m(\u001b[0m\u001b[1;34m'정상인 경우'\u001b[0m\u001b[1;33m)\u001b[0m\u001b[1;33m\u001b[0m\u001b[1;33m\u001b[0m\u001b[0m\n",
      "\u001b[1;31mZeroDivisionError\u001b[0m: division by zero"
     ]
    }
   ],
   "source": [
    "# f = open(\"나없는파일\", 'r')\n",
    "10 / 0\n",
    "\n",
    "print('정상인 경우')"
   ]
  },
  {
   "cell_type": "code",
   "execution_count": 37,
   "metadata": {},
   "outputs": [
    {
     "output_type": "stream",
     "name": "stdout",
     "text": [
      "6\n정상실행\n오류가 없는 경우에만 실행\n오류 여부와 상관없이 실행\n정상 흐름\n"
     ]
    }
   ],
   "source": [
    "import random\n",
    "\n",
    "try:\n",
    "    no = random.randint(1, 6)\n",
    "    print(no)\n",
    "    if no == 1:\n",
    "        10 / 0\n",
    "    elif no == 2:\n",
    "        f = open('file.txt', 'rt')\n",
    "    elif no == 3:\n",
    "        raise NotImplementedError(\"서비스 준비중입니다.\", '감사합니다.')\n",
    "    else:\n",
    "        print(\"정상실행\")\n",
    "except Exception:\n",
    "    print(\"모든 오류는 여기서 처리됩니다.\")\n",
    "except ZeroDivisionError as e1:\n",
    "    print(e1)\n",
    "except FileNotFoundError as e2:\n",
    "    print(e2)\n",
    "except NotImplementedError as e3:\n",
    "    print(e3)\n",
    "else:\n",
    "    print(\"오류가 없는 경우에만 실행\")\n",
    "finally:\n",
    "    print('오류 여부와 상관없이 실행')\n",
    "    \n",
    "print(\"정상 흐름\")"
   ]
  },
  {
   "cell_type": "code",
   "execution_count": 5,
   "metadata": {},
   "outputs": [
    {
     "output_type": "stream",
     "name": "stdout",
     "text": [
      "end of code\n",
      "welcome $ to $ python $ world !"
     ]
    }
   ],
   "source": [
    "import sys\n",
    "\n",
    "f = open('test.txt', 'wt')\n",
    "# print('welcome', 'to', 'python', 'world', sep=' $ ', end=' !', file=f)\n",
    "print('welcome', 'to', 'python', 'world', sep=' $ ', end=' !', file=sys.stderr)\n",
    "f.close()\n",
    "\n",
    "print('end of code')"
   ]
  },
  {
   "cell_type": "code",
   "execution_count": 6,
   "metadata": {},
   "outputs": [
    {
     "output_type": "stream",
     "name": "stdout",
     "text": [
      "apple is red\n"
     ]
    }
   ],
   "source": [
    "args = { \"item\": 'apple', 'color': 'red' }\n",
    "print(\"{item} is {color}\".format(**args))"
   ]
  },
  {
   "cell_type": "code",
   "execution_count": 7,
   "metadata": {},
   "outputs": [
    {
     "output_type": "stream",
     "name": "stdout",
     "text": [
      "[111            ]\n[            111]\n[000000000000111]\n[000000000000111]\n[0001.111111e+02]\n[0000001.111e+02]\n[00000111.111110]\n[00000000111.111]\n[0000040.000000%]\n"
     ]
    }
   ],
   "source": [
    "print( '[{0:<15}]'.format(111) )\n",
    "print( '[{0:>15}]'.format(111) )\n",
    "print( '[{0:0>15}]'.format(111) )\n",
    "print( '[{0:0>15d}]'.format(111) )\n",
    "print( '[{0:0>15e}]'.format(111.11111) )\n",
    "print( '[{0:0>15.3e}]'.format(111.11111) )\n",
    "print( '[{0:0>15f}]'.format(111.11111) )\n",
    "print( '[{0:0>15.3f}]'.format(111.11111) )\n",
    "print( '[{0:0>15%}]'.format(2/5) )"
   ]
  },
  {
   "cell_type": "code",
   "execution_count": null,
   "metadata": {},
   "outputs": [],
   "source": []
  },
  {
   "cell_type": "code",
   "execution_count": 13,
   "metadata": {},
   "outputs": [],
   "source": [
    "# f = open('file-test.txt', 'wt', encoding=\"utf-8\")\n",
    "f = open('file-test.txt', 'at', encoding=\"utf-8\")\n",
    "f.write('파일에 기록하는 데이터 1\\n')\n",
    "f.write('파일에 기록하는 데이터 2\\n')\n",
    "f.write('파일에 기록하는 데이터 3\\n')\n",
    "f.close()"
   ]
  },
  {
   "cell_type": "code",
   "execution_count": 12,
   "metadata": {},
   "outputs": [],
   "source": [
    "with open('file-test.txt', 'wt', encoding=\"utf-8\") as f:\n",
    "    f.write('파일에 기록하는 데이터 4\\n')\n",
    "    f.write('파일에 기록하는 데이터 5\\n')\n",
    "    f.write('파일에 기록하는 데이터 6\\n')"
   ]
  },
  {
   "cell_type": "code",
   "execution_count": 15,
   "metadata": {},
   "outputs": [
    {
     "output_type": "stream",
     "name": "stdout",
     "text": [
      "파일에 기록하는 데이터 4\n파일에 기록하는 데이터 5\n파일에 기록하는 데이터 6\n파일에 기록하는 데이터 1\n파일에 기록하는 데이터 2\n파일에 기록하는 데이터 3\n\n"
     ]
    }
   ],
   "source": [
    "with open('file-test.txt', 'rt', encoding='utf-8') as f:\n",
    "    print(f.read())"
   ]
  },
  {
   "cell_type": "code",
   "execution_count": 19,
   "metadata": {},
   "outputs": [
    {
     "output_type": "stream",
     "name": "stdout",
     "text": [
      "['파일에 기록하는 데이터 4\\n', '파일에 기록하는 데이터 5\\n', '파일에 기록하는 데이터 6\\n', '파일에 기록하는 데이터 1\\n', '파일에 기록하는 데이터 2\\n', '파일에 기록하는 데이터 3\\n']\n파일에 기록하는 데이터 4\n파일에 기록하는 데이터 5\n파일에 기록하는 데이터 6\n파일에 기록하는 데이터 1\n파일에 기록하는 데이터 2\n파일에 기록하는 데이터 3\n"
     ]
    }
   ],
   "source": [
    "with open('file-test.txt', 'rt', encoding='utf-8') as f:\n",
    "    lines = f.readlines()\n",
    "    print(lines)\n",
    "    for line in lines:\n",
    "        print(line, end='')"
   ]
  },
  {
   "cell_type": "code",
   "execution_count": 22,
   "metadata": {},
   "outputs": [
    {
     "output_type": "stream",
     "name": "stdout",
     "text": [
      "파일에 기록하는 데이터 4\n파일에 기록하는 데이터 5\n파일에 기록하는 데이터 6\n파일에 기록하는 데이터 1\n파일에 기록하는 데이터 2\n파일에 기록하는 데이터 3\n"
     ]
    }
   ],
   "source": [
    "with open('file-test.txt', 'rt', encoding='utf-8') as f:\n",
    "    while True:\n",
    "        line = f.readline() # 더 이상 읽을 데이터가 없으면 None\n",
    "        if not line:\n",
    "            break\n",
    "        print(line, end='')"
   ]
  },
  {
   "cell_type": "code",
   "execution_count": 25,
   "metadata": {},
   "outputs": [
    {
     "output_type": "stream",
     "name": "stdout",
     "text": [
      "['파일에 기록하는 데이터 4\\n', '파일에 기록하는 데이터 5\\n', '파일에 기록하는 데이터 6\\n', '파일에 기록하는 데이터 1\\n', '파일에 기록하는 데이터 2\\n', '파일에 기록하는 데이터 3\\n']\n216\n[]\n['파일에 기록하는 데이터 4\\n', '파일에 기록하는 데이터 5\\n', '파일에 기록하는 데이터 6\\n', '파일에 기록하는 데이터 1\\n', '파일에 기록하는 데이터 2\\n', '파일에 기록하는 데이터 3\\n']\n"
     ]
    }
   ],
   "source": [
    "with open('file-test.txt', 'rt', encoding='utf-8') as f:\n",
    "    print( f.readlines() )\n",
    "    print( f.tell() ) # 현재 파일의 읽기 위치\n",
    "    print( f.readlines() )\n",
    "    f.seek(0) # 파일의 읽기 위치를 0으로 이동\n",
    "    print(f.readlines())"
   ]
  },
  {
   "cell_type": "code",
   "execution_count": 26,
   "metadata": {},
   "outputs": [],
   "source": [
    "import pickle\n",
    "\n",
    "a = [1, 2, 3, 4, 5]\n",
    "b = [10, 20, 30, 40, 50]\n",
    "c = { 'a': 1, 'b': 2, 'c': 3}\n",
    "\n",
    "with open('data.dat', 'wb') as f:\n",
    "    pickle.dump(a, f)\n",
    "    pickle.dump(b, f)\n",
    "    pickle.dump(c, f)\n"
   ]
  },
  {
   "cell_type": "code",
   "execution_count": 27,
   "metadata": {},
   "outputs": [
    {
     "output_type": "stream",
     "name": "stdout",
     "text": [
      "[1, 2, 3, 4, 5]\n[10, 20, 30, 40, 50]\n{'a': 1, 'b': 2, 'c': 3}\n"
     ]
    }
   ],
   "source": [
    "with open('data.dat', 'rb') as f:\n",
    "    a2 = pickle.load(f)\n",
    "    print(a2)\n",
    "    b2 = pickle.load(f)\n",
    "    print(b2)\n",
    "    c2 = pickle.load(f)\n",
    "    print(c2)"
   ]
  },
  {
   "cell_type": "code",
   "execution_count": 28,
   "metadata": {},
   "outputs": [],
   "source": [
    "a = [1, 2, 3, 4, 5]\n",
    "b = [10, 20, 30, 40, 50]\n",
    "c = { 'a': 1, 'b': 2, 'c': 3}\n",
    "\n",
    "with open('data2.dat', 'wb') as f:\n",
    "    pickle.dump([a, b, c], f)"
   ]
  },
  {
   "cell_type": "code",
   "execution_count": 29,
   "metadata": {},
   "outputs": [
    {
     "output_type": "stream",
     "name": "stdout",
     "text": [
      "[[1, 2, 3, 4, 5], [10, 20, 30, 40, 50], {'a': 1, 'b': 2, 'c': 3}]\n"
     ]
    }
   ],
   "source": [
    "with open('data2.dat', 'rb') as f:\n",
    "    d = pickle.load(f)\n",
    "    print(d)"
   ]
  },
  {
   "cell_type": "code",
   "execution_count": 31,
   "metadata": {},
   "outputs": [],
   "source": [
    "import re"
   ]
  },
  {
   "cell_type": "code",
   "execution_count": 33,
   "metadata": {},
   "outputs": [
    {
     "output_type": "stream",
     "name": "stdout",
     "text": [
      "<re.Match object; span=(0, 4), match='35th'>\nNone\n"
     ]
    }
   ],
   "source": [
    "print( re.match(\"[0-9]+th\", \"35th\") )\n",
    "print( re.match(\"[0-9]+th\", \"35t\") )"
   ]
  },
  {
   "cell_type": "code",
   "execution_count": 34,
   "metadata": {},
   "outputs": [
    {
     "output_type": "stream",
     "name": "stdout",
     "text": [
      "<re.Match object; span=(0, 4), match='35th'>\nNone\n"
     ]
    }
   ],
   "source": [
    "print( re.search(\"[0-9]+th\", \"35th\") )\n",
    "print( re.search(\"[0-9]+th\", \"35t\") )"
   ]
  },
  {
   "cell_type": "code",
   "execution_count": 37,
   "metadata": {},
   "outputs": [
    {
     "output_type": "stream",
     "name": "stdout",
     "text": [
      "['apple', 'orange', 'banana', 'tomato']\n"
     ]
    }
   ],
   "source": [
    "print( re.split(\"[: ]\", \"apple orange:banana tomato\"))"
   ]
  },
  {
   "cell_type": "code",
   "execution_count": 39,
   "metadata": {},
   "outputs": [
    {
     "output_type": "stream",
     "name": "stdout",
     "text": [
      "['a']\n['a', 'a']\n[]\n['a']\n"
     ]
    }
   ],
   "source": [
    "print( re.findall('[a]', 'a'))\n",
    "print( re.findall('a', 'aba'))\n",
    "print( re.findall('a', 'bbb'))\n",
    "print( re.findall('a', 'cba'))"
   ]
  },
  {
   "cell_type": "code",
   "execution_count": 45,
   "metadata": {},
   "outputs": [
    {
     "output_type": "stream",
     "name": "stdout",
     "text": [
      "<callable_iterator object at 0x0000026C9CF9B2C8>\n<re.Match object; span=(0, 1), match='a'>\na (0, 1) 0 1\n<re.Match object; span=(3, 4), match='a'>\na (3, 4) 3 4\n"
     ]
    }
   ],
   "source": [
    "itr = re.finditer('a', 'abcaxy')\n",
    "print(itr)\n",
    "for m in itr:\n",
    "    print(m)\n",
    "    print(m.group(), m.span(), m.start(), m.end())"
   ]
  },
  {
   "cell_type": "code",
   "execution_count": 46,
   "metadata": {},
   "outputs": [
    {
     "output_type": "execute_result",
     "data": {
      "text/plain": [
       "'apple, orange, banana, tomato, pineapple'"
      ]
     },
     "metadata": {},
     "execution_count": 46
    }
   ],
   "source": [
    "# re.sub(\"pattern\", \"변경할문자열\", \"원본문자열\")\n",
    "re.sub(\"[:|,\\s]\", \", \", \"apple:orange banana|tomato pineapple\")"
   ]
  },
  {
   "cell_type": "code",
   "execution_count": 48,
   "metadata": {},
   "outputs": [
    {
     "output_type": "stream",
     "name": "stdout",
     "text": [
      "apple, orange, banana, tomato, pineapple\n[':', ' ', '|', ' ']\n"
     ]
    }
   ],
   "source": [
    "rec = re.compile(\"[:|,\\s]\")\n",
    "print( rec.sub(\", \", \"apple:orange banana|tomato pineapple\") )\n",
    "print( rec.findall(\"apple:orange banana|tomato pineapple\") )"
   ]
  }
 ]
}