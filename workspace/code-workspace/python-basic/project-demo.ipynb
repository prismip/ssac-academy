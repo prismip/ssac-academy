{
 "metadata": {
  "language_info": {
   "codemirror_mode": {
    "name": "ipython",
    "version": 3
   },
   "file_extension": ".py",
   "mimetype": "text/x-python",
   "name": "python",
   "nbconvert_exporter": "python",
   "pygments_lexer": "ipython3",
   "version": "3.7.9-final"
  },
  "orig_nbformat": 2,
  "kernelspec": {
   "name": "python3",
   "display_name": "Python 3",
   "language": "python"
  }
 },
 "nbformat": 4,
 "nbformat_minor": 2,
 "cells": [
  {
   "cell_type": "code",
   "execution_count": 1,
   "metadata": {},
   "outputs": [
    {
     "output_type": "stream",
     "name": "stdout",
     "text": [
      "201801\n201802\n201803\n201804\n201805\n201806\n201807\n201808\n201809\n201810\n201811\n201901\n201902\n201903\n201904\n201905\n201906\n201907\n201908\n201909\n201910\n201911\n202001\n202002\n202003\n202004\n202005\n202006\n202007\n202008\n202009\n202010\n202011\n"
     ]
    }
   ],
   "source": [
    "for year in range(2018, 2021):\n",
    "    for month in range(1, 12):\n",
    "        print('{0}{1:02d}'.format(year, month))    "
   ]
  },
  {
   "cell_type": "code",
   "execution_count": null,
   "metadata": {},
   "outputs": [],
   "source": [
    "connection_info = { 'host': 'localhost', 'user': 'root', 'password': 'Pa$$w0rd', 'db': 'commercial_db', 'charset': 'utf8' }\n",
    "        \n",
    "conn = pymysql.connect(**connection_info)\n",
    "cursor = conn.cursor()\n",
    "\n",
    "sql = 'DELETE FROM foot_traffic'\n",
    "cursor.execute(sql)\n",
    "\n",
    "sql = 'INSERT INTO foot_traffic VALUES(%s, %s, %s, %s, %s, %s, %s, %s, %s, %s, %s, %s)'\n",
    "for ft in foot_traffic:\n",
    "    cursor.execute(sql, (foot_traffic[0], foot_traffic[1], foot_traffic[2], ...) \n",
    "\n",
    "conn.commit()\n",
    "\n",
    "conn.close()"
   ]
  },
  {
   "cell_type": "code",
   "execution_count": 4,
   "metadata": {},
   "outputs": [
    {
     "output_type": "stream",
     "name": "stdout",
     "text": [
      "b'<?xml vers'\n",
      "b'<?xml vers'\n",
      "b'<?xml vers'\n",
      "b'<?xml vers'\n",
      "b'<?xml vers'\n",
      "b'<?xml vers'\n",
      "b'<?xml vers'\n",
      "b'<?xml vers'\n",
      "b'<?xml vers'\n",
      "b'<?xml vers'\n",
      "b'<?xml vers'\n"
     ]
    }
   ],
   "source": [
    "import requests\n",
    "import time\n",
    "import random\n",
    "\n",
    "def request_data():\n",
    "    url = 'http://openapi.airkorea.or.kr/openapi/services/rest/UlfptcaAlarmInqireSvc/getUlfptcaAlarmInfo'\n",
    "    api_key = ''\n",
    "\n",
    "    qs = 'serviceKey={0}&pageNo={1}&numOfRows={2}&year={3}{4:02d}&itemcode={5}'.format(api_key,1,10,year,month,'PM10')\n",
    "    response =  requests.get(url + \"?\"+ qs)\n",
    "    return response.content\n",
    "\n",
    "for year in range(2019,2021):\n",
    "    for month in range(1,12):\n",
    "        response_content = request_data()\n",
    "        print(response_content[:10])\n",
    "        interval = random.randint(10, 30) # 요청과 요청 사이에 불규칙하게 시간의 간격 유지\n",
    "        time.sleep(interval)"
   ]
  }
 ]
}