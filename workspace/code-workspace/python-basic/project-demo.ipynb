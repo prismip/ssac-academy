{
 "metadata": {
  "language_info": {
   "codemirror_mode": {
    "name": "ipython",
    "version": 3
   },
   "file_extension": ".py",
   "mimetype": "text/x-python",
   "name": "python",
   "nbconvert_exporter": "python",
   "pygments_lexer": "ipython3",
   "version": "3.7.9-final"
  },
  "orig_nbformat": 2,
  "kernelspec": {
   "name": "python3",
   "display_name": "Python 3",
   "language": "python"
  }
 },
 "nbformat": 4,
 "nbformat_minor": 2,
 "cells": [
  {
   "cell_type": "code",
   "execution_count": 1,
   "metadata": {},
   "outputs": [],
   "source": [
    "# for year in range(2018, 2021):\n",
    "#     for month in range(1, 12):\n",
    "#         print('{0}{1:02d}'.format(year, month))    "
   ]
  },
  {
   "cell_type": "code",
   "execution_count": null,
   "metadata": {},
   "outputs": [],
   "source": [
    "connection_info = { 'host': 'localhost', 'user': 'root', 'password': 'Pa$$w0rd', 'db': 'commercial_db', 'charset': 'utf8' }\n",
    "        \n",
    "conn = pymysql.connect(**connection_info)\n",
    "cursor = conn.cursor()\n",
    "\n",
    "sql = 'DELETE FROM foot_traffic'\n",
    "cursor.execute(sql)\n",
    "\n",
    "sql = 'INSERT INTO foot_traffic VALUES(%s, %s, %s, %s, %s, %s, %s, %s, %s, %s, %s, %s)'\n",
    "for ft in foot_traffic:\n",
    "    cursor.execute(sql, (foot_traffic[0], foot_traffic[1], foot_traffic[2], ...) \n",
    "\n",
    "conn.commit()\n",
    "\n",
    "conn.close()"
   ]
  },
  {
   "cell_type": "code",
   "execution_count": 5,
   "metadata": {},
   "outputs": [],
   "source": [
    "import requests\n",
    "import time\n",
    "import random\n",
    "import xmltodict\n",
    "import json\n",
    "\n",
    "def request_data(year, month):\n",
    "    url = 'http://openapi.airkorea.or.kr/openapi/services/rest/UlfptcaAlarmInqireSvc/getUlfptcaAlarmInfo'\n",
    "    api_key = ''\n",
    "\n",
    "    qs = 'serviceKey={0}&pageNo={1}&numOfRows={2}&year={3}{4:02d}&itemcode={5}'.format(api_key,1,10,year,month,'PM10')\n",
    "    response =  requests.get(url + \"?\"+ qs)\n",
    "    return response.content\n",
    "\n",
    "dict_list = []\n",
    "\n",
    "for year in range(2019,2021):\n",
    "    for month in range(1,3):\n",
    "        response_content = request_data(year, month)\n",
    "        # print(response_content[:10])\n",
    "        response_dict = xmltodict.parse(response_content) # xml -> ordereddict\n",
    "        response_json = json.dumps(response_dict, ensure_ascii=False) # ordereddict -> json-string\n",
    "        response_dict2 = json.loads(response_json) # json-string -> general dict\n",
    "        dict_list.append(response_dict2)\n",
    "\n",
    "        interval = random.randint(10, 30) # 요청과 요청 사이에 불규칙하게 시간의 간격 유지\n",
    "        time.sleep(interval)"
   ]
  },
  {
   "cell_type": "code",
   "execution_count": 6,
   "metadata": {},
   "outputs": [
    {
     "output_type": "execute_result",
     "data": {
      "text/plain": [
       "[{'response': {'header': {'resultCode': '10',\n",
       "    'resultMsg': 'INVALID REQUEST PARAMETER ERROR. Please ask data.go.kr'}}},\n",
       " {'response': {'header': {'resultCode': '10',\n",
       "    'resultMsg': 'INVALID REQUEST PARAMETER ERROR. Please ask data.go.kr'}}},\n",
       " {'response': {'header': {'resultCode': '10',\n",
       "    'resultMsg': 'INVALID REQUEST PARAMETER ERROR. Please ask data.go.kr'}}},\n",
       " {'response': {'header': {'resultCode': '10',\n",
       "    'resultMsg': 'INVALID REQUEST PARAMETER ERROR. Please ask data.go.kr'}}}]"
      ]
     },
     "metadata": {},
     "execution_count": 6
    }
   ],
   "source": [
    "dict_list"
   ]
  },
  {
   "cell_type": "code",
   "execution_count": 7,
   "metadata": {},
   "outputs": [
    {
     "output_type": "stream",
     "name": "stdout",
     "text": [
      "http://openapi.airkorea.or.kr/openapi/services/rest/UlfptcaAlarmInqireSvc/getUlfptcaAlarmInfo?serviceKey=&pageNo=1&numOfRows=10&year=201901&itemcode=PM10\nhttp://openapi.airkorea.or.kr/openapi/services/rest/UlfptcaAlarmInqireSvc/getUlfptcaAlarmInfo?serviceKey=&pageNo=1&numOfRows=10&year=201902&itemcode=PM10\nhttp://openapi.airkorea.or.kr/openapi/services/rest/UlfptcaAlarmInqireSvc/getUlfptcaAlarmInfo?serviceKey=&pageNo=1&numOfRows=10&year=202001&itemcode=PM10\nhttp://openapi.airkorea.or.kr/openapi/services/rest/UlfptcaAlarmInqireSvc/getUlfptcaAlarmInfo?serviceKey=&pageNo=1&numOfRows=10&year=202002&itemcode=PM10\n"
     ]
    }
   ],
   "source": [
    "import requests\n",
    "import time\n",
    "import random\n",
    "import xmltodict\n",
    "import json\n",
    "\n",
    "def request_data(year, month):\n",
    "    url = 'http://openapi.airkorea.or.kr/openapi/services/rest/UlfptcaAlarmInqireSvc/getUlfptcaAlarmInfo'\n",
    "    api_key = ''\n",
    "\n",
    "    qs = 'serviceKey={0}&pageNo={1}&numOfRows={2}&year={3}{4:02d}&itemcode={5}'.format(api_key,1,10,year,month,'PM10')\n",
    "    print(url + \"?\"+ qs)\n",
    "\n",
    "dict_list = []\n",
    "\n",
    "for year in range(2019,2021):\n",
    "    for month in range(1,3):\n",
    "        request_data(year, month)"
   ]
  },
  {
   "cell_type": "code",
   "execution_count": 1,
   "metadata": {},
   "outputs": [],
   "source": [
    "import csv\n",
    "import re\n",
    "foot_traffic = []\n",
    "with open(r'D:\\ssac-one2\\foot_traffic.csv', encoding=\"utf-8\") as f:\n",
    "    reader = csv.reader(f)\n",
    "    header = next(reader)\n",
    "    for line in reader:\n",
    "        \n",
    "        foot_traffic.append(line)"
   ]
  },
  {
   "cell_type": "code",
   "execution_count": 6,
   "metadata": {
    "tags": []
   },
   "outputs": [
    {
     "output_type": "execute_result",
     "data": {
      "text/plain": [
       "40283"
      ]
     },
     "metadata": {},
     "execution_count": 6
    }
   ],
   "source": [
    "# for ft in foot_traffic:\n",
    "#     print(foot_traffic[0], foot_traffic[4], foot_traffic[5], foot_traffic[6], foot_traffic[7], foot_traffic[8], foot_traffic[9], foot_traffic[10], foot_traffic[11], foot_traffic[12], foot_traffic[13], foot_traffic[14])\n",
    "len(foot_traffic)"
   ]
  },
  {
   "cell_type": "code",
   "execution_count": null,
   "metadata": {},
   "outputs": [],
   "source": [
    "\n",
    "import pymysql\n",
    "\n",
    "connection_info = { 'host': 'localhost', 'user': 'root', 'password': 'Pa$$w0rd', 'db': 'commercial_db', 'charset': 'utf8' }\n",
    "        \n",
    "conn = pymysql.connect(**connection_info)\n",
    "cursor = conn.cursor()\n",
    "\n",
    "sql = 'DELETE FROM foot_traffic'\n",
    "cursor.execute(sql)\n",
    "\n",
    "sql = 'INSERT INTO foot_traffic VALUES(%s, %s, %s, %s, %s, %s, %s, %s, %s, %s, %s, %s)'\n",
    "for ft in foot_traffic:\n",
    "    cursor.executemany(sql, (foot_traffic[0], foot_traffic[4], foot_traffic[5], foot_traffic[6], foot_traffic[7], foot_traffic[8], foot_traffic[9], foot_traffic[10], foot_traffic[11], foot_traffic[12], foot_traffic[13], foot_traffic[14]))\n",
    "\n",
    "conn.commit()\n",
    "\n",
    "conn.close()"
   ]
  }
 ]
}