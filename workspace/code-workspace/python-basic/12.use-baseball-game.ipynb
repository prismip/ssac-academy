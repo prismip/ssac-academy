{
 "metadata": {
  "language_info": {
   "codemirror_mode": {
    "name": "ipython",
    "version": 3
   },
   "file_extension": ".py",
   "mimetype": "text/x-python",
   "name": "python",
   "nbconvert_exporter": "python",
   "pygments_lexer": "ipython3",
   "version": "3.7.9-final"
  },
  "orig_nbformat": 2,
  "kernelspec": {
   "name": "python3",
   "display_name": "Python 3"
  }
 },
 "nbformat": 4,
 "nbformat_minor": 2,
 "cells": [
  {
   "cell_type": "code",
   "execution_count": 1,
   "metadata": {},
   "outputs": [],
   "source": [
    "from baseball_game import BaseballGame"
   ]
  },
  {
   "cell_type": "code",
   "execution_count": 2,
   "metadata": {},
   "outputs": [
    {
     "output_type": "stream",
     "name": "stdout",
     "text": [
      "HIDDEN_NUMBERS :  [4, 3, 9]\n",
      "==================== [ROUND 1] ====================\n",
      "USER NUMBERS :  [4, 1, 3]\n",
      "[STRIKE : 1][BALL : 1][OUT : 1]\n",
      "==================== [ROUND 2] ====================\n",
      "USER NUMBERS :  [4, 3, 9]\n",
      "[STRIKE : 3][BALL : 0][OUT : 0]\n",
      "Congratulations !!!!!\n",
      "You Win !!!!!\n"
     ]
    }
   ],
   "source": [
    "game = BaseballGame()\n",
    "game.start_game()"
   ]
  }
 ]
}