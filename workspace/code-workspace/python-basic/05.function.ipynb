{
 "metadata": {
  "language_info": {
   "codemirror_mode": {
    "name": "ipython",
    "version": 3
   },
   "file_extension": ".py",
   "mimetype": "text/x-python",
   "name": "python",
   "nbconvert_exporter": "python",
   "pygments_lexer": "ipython3",
   "version": "3.7.9-final"
  },
  "orig_nbformat": 2,
  "kernelspec": {
   "name": "python3",
   "display_name": "Python 3"
  }
 },
 "nbformat": 4,
 "nbformat_minor": 2,
 "cells": [
  {
   "cell_type": "code",
   "execution_count": 2,
   "metadata": {},
   "outputs": [],
   "source": [
    "def my_function() :\n",
    "    # pass\n",
    "    print('hello, python function')"
   ]
  },
  {
   "cell_type": "code",
   "execution_count": 3,
   "metadata": {},
   "outputs": [
    {
     "output_type": "stream",
     "name": "stdout",
     "text": [
      "hello, python function\n"
     ]
    }
   ],
   "source": [
    "my_function()"
   ]
  },
  {
   "cell_type": "code",
   "execution_count": 12,
   "metadata": {},
   "outputs": [],
   "source": [
    "def add(a, b):\n",
    "    result = a + b\n",
    "    return result"
   ]
  },
  {
   "cell_type": "code",
   "execution_count": 13,
   "metadata": {},
   "outputs": [
    {
     "output_type": "stream",
     "name": "stdout",
     "text": [
      "None\n"
     ]
    }
   ],
   "source": [
    "add(10, 20)\n",
    "result = add(10, 20)\n",
    "print(result)"
   ]
  },
  {
   "cell_type": "code",
   "execution_count": 15,
   "metadata": {},
   "outputs": [],
   "source": [
    "def my_function2():\n",
    "    a = 10\n",
    "    b = 20\n",
    "    return a, b"
   ]
  },
  {
   "cell_type": "code",
   "execution_count": 17,
   "metadata": {},
   "outputs": [
    {
     "output_type": "stream",
     "name": "stdout",
     "text": [
      "(10, 20) <class 'tuple'>\n"
     ]
    }
   ],
   "source": [
    "result = my_function2()\n",
    "print(result, type(result))"
   ]
  },
  {
   "cell_type": "code",
   "execution_count": 18,
   "metadata": {},
   "outputs": [
    {
     "output_type": "stream",
     "name": "stdout",
     "text": [
      "[1, 2, 3]\n"
     ]
    }
   ],
   "source": [
    "a = [1, 2, 3]\n",
    "\n",
    "def f1():\n",
    "    print(a)\n",
    "\n",
    "f1()"
   ]
  },
  {
   "cell_type": "code",
   "execution_count": 22,
   "metadata": {},
   "outputs": [
    {
     "output_type": "stream",
     "name": "stdout",
     "text": [
      "1 :  [4, 5, 6]\n2 :  [1, 2, 3]\n"
     ]
    }
   ],
   "source": [
    "a = [1, 2, 3]\n",
    "\n",
    "def f2():\n",
    "    a = [4, 5, 6]\n",
    "    print(\"1 : \", a)\n",
    "\n",
    "f2()\n",
    "print(\"2 : \", a)"
   ]
  },
  {
   "cell_type": "code",
   "execution_count": 26,
   "metadata": {},
   "outputs": [],
   "source": [
    "def say_myself(name, old, man=True):\n",
    "    print(\"나의 이름은 %s 입니다.\" % name)\n",
    "    print(\"나이는 %d살입니다.\" % old)\n",
    "    if man:\n",
    "        print(\"남자입니다.\")\n",
    "    else:\n",
    "        print(\"여자입니다.\")"
   ]
  },
  {
   "cell_type": "code",
   "execution_count": 28,
   "metadata": {},
   "outputs": [
    {
     "output_type": "stream",
     "name": "stdout",
     "text": [
      "나의 이름은 john doe 입니다.\n나이는 30살입니다.\n남자입니다.\n나의 이름은 jane doe 입니다.\n나이는 25살입니다.\n여자입니다.\n"
     ]
    }
   ],
   "source": [
    "say_myself('john doe', 30)\n",
    "say_myself('jane doe', 25, False)"
   ]
  },
  {
   "cell_type": "code",
   "execution_count": 29,
   "metadata": {},
   "outputs": [],
   "source": [
    " def sum_many(*args): # *args : 여러 개의 전달인자를 모아서 리스트로 변환한 전달인자\n",
    "    sum = 0\n",
    "    for i in args:\n",
    "        sum = sum + i\n",
    "    return sum"
   ]
  },
  {
   "cell_type": "code",
   "execution_count": 32,
   "metadata": {},
   "outputs": [
    {
     "output_type": "stream",
     "name": "stdout",
     "text": [
      "30\n60\n100\n280\n"
     ]
    }
   ],
   "source": [
    "print( sum_many(10, 20) )\n",
    "print( sum_many(10, 20, 30) )\n",
    "print( sum_many(10, 20, 30, 40) )\n",
    "\n",
    "data = [10, 20, 30, 40, 50, 60, 70]\n",
    "# print( sum_many(data) )\n",
    "print( sum_many(*data) ) # *data : 리스트를 풀어서 낱개의 전달인자로 변환 ( [1, 2, 3] -> 1, 2, 3 )"
   ]
  },
  {
   "cell_type": "code",
   "execution_count": 33,
   "metadata": {},
   "outputs": [],
   "source": [
    "def f3(a, b, c):\n",
    "    print(a, b, c)"
   ]
  },
  {
   "cell_type": "code",
   "execution_count": 36,
   "metadata": {},
   "outputs": [
    {
     "output_type": "stream",
     "name": "stdout",
     "text": [
      "1 2 3\n1 2 3\n2 3 1\n"
     ]
    }
   ],
   "source": [
    "f3(1, 2, 3)\n",
    "f3(a = 1, b = 2, c = 3)\n",
    "f3(c = 1, a = 2, b = 3)"
   ]
  },
  {
   "cell_type": "code",
   "execution_count": 1,
   "metadata": {},
   "outputs": [],
   "source": [
    "def var_args_func(**dict_data): # **dict_data : a = 10, b = 20, ... 등의 전달인자를 모아서 딕셔너리로 변환한 전달인자 \n",
    "    for key, item in dict_data.items():\n",
    "        print( (key, item), end=' ' )\n",
    "    print()"
   ]
  },
  {
   "cell_type": "code",
   "execution_count": 2,
   "metadata": {},
   "outputs": [
    {
     "output_type": "stream",
     "name": "stdout",
     "text": [
      "('a', 10) ('b', 20) ('c', 30) ('d', 40) \n('x', 10) ('y', 20) ('z', 30) \n"
     ]
    }
   ],
   "source": [
    "var_args_func(a = 10, b = 20, c = 30, d = 40)\n",
    "var_args_func(x = 10, y = 20, z = 30)"
   ]
  },
  {
   "cell_type": "code",
   "execution_count": 4,
   "metadata": {},
   "outputs": [
    {
     "output_type": "stream",
     "name": "stdout",
     "text": [
      "('a', 100) ('b', 200) ('c', 300) ('d', 400) ('e', 500) \n"
     ]
    }
   ],
   "source": [
    "data = { 'a' : 100, 'b' : 200, 'c' : 300, 'd' : 400, 'e' : 500 }\n",
    "var_args_func(**data) # **data : 딕셔너리를 풀어서 낱개의 명명된 전달인자로 변경"
   ]
  },
  {
   "cell_type": "code",
   "execution_count": 6,
   "metadata": {},
   "outputs": [
    {
     "output_type": "stream",
     "name": "stdout",
     "text": [
      "in f :  2\n1\n"
     ]
    }
   ],
   "source": [
    "a = 1\n",
    "def vartest(a):\n",
    "    a = a +1\n",
    "    print('in f : ', a)\n",
    "\n",
    "\n",
    "vartest(a)\n",
    "print(a)\n"
   ]
  },
  {
   "cell_type": "code",
   "execution_count": 7,
   "metadata": {},
   "outputs": [
    {
     "output_type": "stream",
     "name": "stdout",
     "text": [
      "2\n"
     ]
    }
   ],
   "source": [
    "a = 1\n",
    "def vartest():\n",
    "    global a # a변수는 함수 지역 변수가 아니고 외부 전역 변수를 참조합니다.\n",
    "    a = a+1\n",
    "\n",
    "vartest()\n",
    "print(a)\n"
   ]
  },
  {
   "cell_type": "code",
   "execution_count": 8,
   "metadata": {},
   "outputs": [
    {
     "output_type": "stream",
     "name": "stdout",
     "text": [
      "1 4 9 16 25 "
     ]
    }
   ],
   "source": [
    "def squared(x):\n",
    "    return x**2\n",
    "\n",
    "a = [1, 2, 3, 4, 5]\n",
    "a2 = map(squared, a)\n",
    "\n",
    "for d in a2:\n",
    "    print(d, end=' ')"
   ]
  },
  {
   "cell_type": "code",
   "execution_count": 9,
   "metadata": {},
   "outputs": [
    {
     "output_type": "stream",
     "name": "stdout",
     "text": [
      "1 4 9 16 25 "
     ]
    }
   ],
   "source": [
    "a = [1, 2, 3, 4, 5]\n",
    "a2 = map(lambda x: x**2, a)\n",
    "\n",
    "for d in a2:\n",
    "    print(d, end=' ')\n"
   ]
  },
  {
   "cell_type": "code",
   "execution_count": 10,
   "metadata": {},
   "outputs": [
    {
     "output_type": "stream",
     "name": "stdout",
     "text": [
      "2 4 "
     ]
    }
   ],
   "source": [
    "a = [1, 2, 3, 4, 5]\n",
    "a2 = filter(lambda x: x % 2 == 0, a)\n",
    "\n",
    "for d in a2:\n",
    "    print(d, end=' ')"
   ]
  },
  {
   "cell_type": "code",
   "execution_count": 11,
   "metadata": {},
   "outputs": [
    {
     "output_type": "execute_result",
     "data": {
      "text/plain": [
       "\"print(value, ..., sep=' ', end='\\\\n', file=sys.stdout, flush=False)\\n\\nPrints the values to a stream, or to sys.stdout by default.\\nOptional keyword arguments:\\nfile:  a file-like object (stream); defaults to the current sys.stdout.\\nsep:   string inserted between values, default a space.\\nend:   string appended after the last value, default a newline.\\nflush: whether to forcibly flush the stream.\""
      ]
     },
     "metadata": {},
     "execution_count": 11
    }
   ],
   "source": [
    "print.__doc__"
   ]
  },
  {
   "cell_type": "code",
   "execution_count": 13,
   "metadata": {},
   "outputs": [
    {
     "output_type": "execute_result",
     "data": {
      "text/plain": [
       "'\\n    이 함수는 문서 주석 테스트를 위해 만든 함수입니다.\\n    '"
      ]
     },
     "metadata": {},
     "execution_count": 13
    }
   ],
   "source": [
    "def my_func():\n",
    "    \"\"\"\n",
    "    이 함수는 문서 주석 테스트를 위해 만든 함수입니다.\n",
    "    \"\"\"\n",
    "    pass\n",
    "\n",
    "my_func.__doc__\n"
   ]
  },
  {
   "cell_type": "code",
   "execution_count": 14,
   "metadata": {},
   "outputs": [
    {
     "output_type": "execute_result",
     "data": {
      "text/plain": [
       "(1, 2, 3, 4, 5)"
      ]
     },
     "metadata": {},
     "execution_count": 14
    }
   ],
   "source": [
    "it = iter([1, 2, 3, 4, 5])\n",
    "next(it), next(it), next(it), next(it), next(it)"
   ]
  },
  {
   "cell_type": "code",
   "execution_count": 16,
   "metadata": {},
   "outputs": [
    {
     "output_type": "stream",
     "name": "stdout",
     "text": [
      "1 2 3 4 5\n1 2 3 4 5 "
     ]
    }
   ],
   "source": [
    "def my_generator(p):\n",
    "    for i in p:\n",
    "        yield i # return 의 일종 (호출한 곳으로 값을 반환하고 대기))\n",
    "\n",
    "mg = my_generator([1, 2, 3, 4, 5])\n",
    "print( next(mg), next(mg), next(mg), next(mg), next(mg) )\n",
    "\n",
    "for x in my_generator([1, 2, 3, 4, 5]):\n",
    "    print(x, end=' ')"
   ]
  },
  {
   "cell_type": "code",
   "execution_count": null,
   "metadata": {},
   "outputs": [],
   "source": []
  }
 ]
}