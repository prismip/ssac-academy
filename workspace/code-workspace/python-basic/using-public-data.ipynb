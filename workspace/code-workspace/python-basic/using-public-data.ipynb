{
 "metadata": {
  "language_info": {
   "codemirror_mode": {
    "name": "ipython",
    "version": 3
   },
   "file_extension": ".py",
   "mimetype": "text/x-python",
   "name": "python",
   "nbconvert_exporter": "python",
   "pygments_lexer": "ipython3",
   "version": "3.7.9-final"
  },
  "orig_nbformat": 2,
  "kernelspec": {
   "name": "python3",
   "display_name": "Python 3",
   "language": "python"
  }
 },
 "nbformat": 4,
 "nbformat_minor": 2,
 "cells": [
  {
   "cell_type": "code",
   "execution_count": 2,
   "metadata": {},
   "outputs": [],
   "source": [
    "# !pip install bs4\n",
    "# !pip install finance-datareader"
   ]
  },
  {
   "cell_type": "code",
   "execution_count": 4,
   "metadata": {},
   "outputs": [],
   "source": [
    "import FinanceDataReader as fdr"
   ]
  },
  {
   "cell_type": "code",
   "execution_count": 11,
   "metadata": {},
   "outputs": [],
   "source": [
    "krx_data = fdr.StockListing('KRX')"
   ]
  },
  {
   "cell_type": "code",
   "execution_count": 12,
   "metadata": {},
   "outputs": [
    {
     "output_type": "execute_result",
     "data": {
      "text/plain": [
       "   Symbol  Market     Name           Sector                          Industry  \\\n",
       "0  060310  KOSDAQ       3S    특수 목적용 기계 제조업                       반도체 웨이퍼 캐리어   \n",
       "1  095570   KOSPI   AJ네트웍스  산업용 기계 및 장비 임대업               렌탈(파렛트, OA장비, 건설장비)   \n",
       "2  006840   KOSPI    AK홀딩스           기타 금융업                              지주사업   \n",
       "3  054620  KOSDAQ   APS홀딩스           기타 금융업                       인터넷 트래픽 솔루션   \n",
       "4  265520  KOSDAQ    AP시스템    특수 목적용 기계 제조업                       디스플레이 제조 장비   \n",
       "5  211270  KOSDAQ     AP위성   통신 및 방송 장비 제조업                          위성통신 단말기   \n",
       "6  027410   KOSPI      BGF           기타 금융업                              지주회사   \n",
       "7  282330   KOSPI   BGF리테일           종합 소매업                           체인화 편의점   \n",
       "8  138930   KOSPI  BNK금융지주           기타 금융업                            금융지주회사   \n",
       "9  001460   KOSPI      BYC         봉제의복 제조업  메리야스,란제리 제조,도매/건축공사/부동산 임대,분양,공급   \n",
       "\n",
       "  ListingDate SettleMonth      Representative                       HomePage  \\\n",
       "0  2002-04-23         03월  박종익, 김세완 (각자 대표이사)           http://www.3sref.com   \n",
       "1  2015-08-21         12월                 이현우         http://www.ajnet.co.kr   \n",
       "2  1999-08-11         12월   채형석, 이석주(각자 대표이사)  http://www.aekyunggroup.co.kr   \n",
       "3  2001-12-04         12월                 정기로   http://www.apsholdings.co.kr   \n",
       "4  2017-04-07         12월                 김영주     http://www.apsystems.co.kr   \n",
       "5  2016-03-04         12월                 류장수          http://www.apsi.co.kr   \n",
       "6  2014-05-19         12월                 홍정국           http://www.bgf.co.kr   \n",
       "7  2017-12-08         12월                 이건준       http://www.bgfretail.com   \n",
       "8  2011-03-30         12월                 김지완           http://www.bnkfg.com   \n",
       "9  1975-06-02         12월               고 윤 성          http://home.byc.co.kr   \n",
       "\n",
       "  Region  \n",
       "0  서울특별시  \n",
       "1  서울특별시  \n",
       "2  서울특별시  \n",
       "3    경기도  \n",
       "4    경기도  \n",
       "5  서울특별시  \n",
       "6  서울특별시  \n",
       "7  서울특별시  \n",
       "8  부산광역시  \n",
       "9  서울특별시  "
      ],
      "text/html": "<div>\n<style scoped>\n    .dataframe tbody tr th:only-of-type {\n        vertical-align: middle;\n    }\n\n    .dataframe tbody tr th {\n        vertical-align: top;\n    }\n\n    .dataframe thead th {\n        text-align: right;\n    }\n</style>\n<table border=\"1\" class=\"dataframe\">\n  <thead>\n    <tr style=\"text-align: right;\">\n      <th></th>\n      <th>Symbol</th>\n      <th>Market</th>\n      <th>Name</th>\n      <th>Sector</th>\n      <th>Industry</th>\n      <th>ListingDate</th>\n      <th>SettleMonth</th>\n      <th>Representative</th>\n      <th>HomePage</th>\n      <th>Region</th>\n    </tr>\n  </thead>\n  <tbody>\n    <tr>\n      <th>0</th>\n      <td>060310</td>\n      <td>KOSDAQ</td>\n      <td>3S</td>\n      <td>특수 목적용 기계 제조업</td>\n      <td>반도체 웨이퍼 캐리어</td>\n      <td>2002-04-23</td>\n      <td>03월</td>\n      <td>박종익, 김세완 (각자 대표이사)</td>\n      <td>http://www.3sref.com</td>\n      <td>서울특별시</td>\n    </tr>\n    <tr>\n      <th>1</th>\n      <td>095570</td>\n      <td>KOSPI</td>\n      <td>AJ네트웍스</td>\n      <td>산업용 기계 및 장비 임대업</td>\n      <td>렌탈(파렛트, OA장비, 건설장비)</td>\n      <td>2015-08-21</td>\n      <td>12월</td>\n      <td>이현우</td>\n      <td>http://www.ajnet.co.kr</td>\n      <td>서울특별시</td>\n    </tr>\n    <tr>\n      <th>2</th>\n      <td>006840</td>\n      <td>KOSPI</td>\n      <td>AK홀딩스</td>\n      <td>기타 금융업</td>\n      <td>지주사업</td>\n      <td>1999-08-11</td>\n      <td>12월</td>\n      <td>채형석, 이석주(각자 대표이사)</td>\n      <td>http://www.aekyunggroup.co.kr</td>\n      <td>서울특별시</td>\n    </tr>\n    <tr>\n      <th>3</th>\n      <td>054620</td>\n      <td>KOSDAQ</td>\n      <td>APS홀딩스</td>\n      <td>기타 금융업</td>\n      <td>인터넷 트래픽 솔루션</td>\n      <td>2001-12-04</td>\n      <td>12월</td>\n      <td>정기로</td>\n      <td>http://www.apsholdings.co.kr</td>\n      <td>경기도</td>\n    </tr>\n    <tr>\n      <th>4</th>\n      <td>265520</td>\n      <td>KOSDAQ</td>\n      <td>AP시스템</td>\n      <td>특수 목적용 기계 제조업</td>\n      <td>디스플레이 제조 장비</td>\n      <td>2017-04-07</td>\n      <td>12월</td>\n      <td>김영주</td>\n      <td>http://www.apsystems.co.kr</td>\n      <td>경기도</td>\n    </tr>\n    <tr>\n      <th>5</th>\n      <td>211270</td>\n      <td>KOSDAQ</td>\n      <td>AP위성</td>\n      <td>통신 및 방송 장비 제조업</td>\n      <td>위성통신 단말기</td>\n      <td>2016-03-04</td>\n      <td>12월</td>\n      <td>류장수</td>\n      <td>http://www.apsi.co.kr</td>\n      <td>서울특별시</td>\n    </tr>\n    <tr>\n      <th>6</th>\n      <td>027410</td>\n      <td>KOSPI</td>\n      <td>BGF</td>\n      <td>기타 금융업</td>\n      <td>지주회사</td>\n      <td>2014-05-19</td>\n      <td>12월</td>\n      <td>홍정국</td>\n      <td>http://www.bgf.co.kr</td>\n      <td>서울특별시</td>\n    </tr>\n    <tr>\n      <th>7</th>\n      <td>282330</td>\n      <td>KOSPI</td>\n      <td>BGF리테일</td>\n      <td>종합 소매업</td>\n      <td>체인화 편의점</td>\n      <td>2017-12-08</td>\n      <td>12월</td>\n      <td>이건준</td>\n      <td>http://www.bgfretail.com</td>\n      <td>서울특별시</td>\n    </tr>\n    <tr>\n      <th>8</th>\n      <td>138930</td>\n      <td>KOSPI</td>\n      <td>BNK금융지주</td>\n      <td>기타 금융업</td>\n      <td>금융지주회사</td>\n      <td>2011-03-30</td>\n      <td>12월</td>\n      <td>김지완</td>\n      <td>http://www.bnkfg.com</td>\n      <td>부산광역시</td>\n    </tr>\n    <tr>\n      <th>9</th>\n      <td>001460</td>\n      <td>KOSPI</td>\n      <td>BYC</td>\n      <td>봉제의복 제조업</td>\n      <td>메리야스,란제리 제조,도매/건축공사/부동산 임대,분양,공급</td>\n      <td>1975-06-02</td>\n      <td>12월</td>\n      <td>고 윤 성</td>\n      <td>http://home.byc.co.kr</td>\n      <td>서울특별시</td>\n    </tr>\n  </tbody>\n</table>\n</div>"
     },
     "metadata": {},
     "execution_count": 12
    }
   ],
   "source": [
    "krx_data.head(10)"
   ]
  },
  {
   "cell_type": "code",
   "execution_count": 13,
   "metadata": {},
   "outputs": [
    {
     "output_type": "execute_result",
     "data": {
      "text/plain": [
       "            Open  High   Low  Close   Volume    Change\n",
       "Date                                                  \n",
       "2002-04-23  3316  3316  3316   3315   545120       NaN\n",
       "2002-04-24  3652  3714  3382   3712   703615  0.119759\n",
       "2002-04-25  4158  4158  3268   3817  3843510  0.028287\n",
       "2002-04-26  3731  3820  3361   3360   880555 -0.119728\n",
       "2002-04-29  2968  3142  2959   2959   696940 -0.119345\n",
       "...          ...   ...   ...    ...      ...       ...\n",
       "2020-12-15  2195  2195  2155   2185   139561  0.000000\n",
       "2020-12-16  2195  2430  2180   2370  2909662  0.084668\n",
       "2020-12-17  2425  2425  2290   2330   587914 -0.016878\n",
       "2020-12-18  2335  2355  2225   2295   374375 -0.015021\n",
       "2020-12-21  2250  2350  2250   2275   100763 -0.008715\n",
       "\n",
       "[4617 rows x 6 columns]"
      ],
      "text/html": "<div>\n<style scoped>\n    .dataframe tbody tr th:only-of-type {\n        vertical-align: middle;\n    }\n\n    .dataframe tbody tr th {\n        vertical-align: top;\n    }\n\n    .dataframe thead th {\n        text-align: right;\n    }\n</style>\n<table border=\"1\" class=\"dataframe\">\n  <thead>\n    <tr style=\"text-align: right;\">\n      <th></th>\n      <th>Open</th>\n      <th>High</th>\n      <th>Low</th>\n      <th>Close</th>\n      <th>Volume</th>\n      <th>Change</th>\n    </tr>\n    <tr>\n      <th>Date</th>\n      <th></th>\n      <th></th>\n      <th></th>\n      <th></th>\n      <th></th>\n      <th></th>\n    </tr>\n  </thead>\n  <tbody>\n    <tr>\n      <th>2002-04-23</th>\n      <td>3316</td>\n      <td>3316</td>\n      <td>3316</td>\n      <td>3315</td>\n      <td>545120</td>\n      <td>NaN</td>\n    </tr>\n    <tr>\n      <th>2002-04-24</th>\n      <td>3652</td>\n      <td>3714</td>\n      <td>3382</td>\n      <td>3712</td>\n      <td>703615</td>\n      <td>0.119759</td>\n    </tr>\n    <tr>\n      <th>2002-04-25</th>\n      <td>4158</td>\n      <td>4158</td>\n      <td>3268</td>\n      <td>3817</td>\n      <td>3843510</td>\n      <td>0.028287</td>\n    </tr>\n    <tr>\n      <th>2002-04-26</th>\n      <td>3731</td>\n      <td>3820</td>\n      <td>3361</td>\n      <td>3360</td>\n      <td>880555</td>\n      <td>-0.119728</td>\n    </tr>\n    <tr>\n      <th>2002-04-29</th>\n      <td>2968</td>\n      <td>3142</td>\n      <td>2959</td>\n      <td>2959</td>\n      <td>696940</td>\n      <td>-0.119345</td>\n    </tr>\n    <tr>\n      <th>...</th>\n      <td>...</td>\n      <td>...</td>\n      <td>...</td>\n      <td>...</td>\n      <td>...</td>\n      <td>...</td>\n    </tr>\n    <tr>\n      <th>2020-12-15</th>\n      <td>2195</td>\n      <td>2195</td>\n      <td>2155</td>\n      <td>2185</td>\n      <td>139561</td>\n      <td>0.000000</td>\n    </tr>\n    <tr>\n      <th>2020-12-16</th>\n      <td>2195</td>\n      <td>2430</td>\n      <td>2180</td>\n      <td>2370</td>\n      <td>2909662</td>\n      <td>0.084668</td>\n    </tr>\n    <tr>\n      <th>2020-12-17</th>\n      <td>2425</td>\n      <td>2425</td>\n      <td>2290</td>\n      <td>2330</td>\n      <td>587914</td>\n      <td>-0.016878</td>\n    </tr>\n    <tr>\n      <th>2020-12-18</th>\n      <td>2335</td>\n      <td>2355</td>\n      <td>2225</td>\n      <td>2295</td>\n      <td>374375</td>\n      <td>-0.015021</td>\n    </tr>\n    <tr>\n      <th>2020-12-21</th>\n      <td>2250</td>\n      <td>2350</td>\n      <td>2250</td>\n      <td>2275</td>\n      <td>100763</td>\n      <td>-0.008715</td>\n    </tr>\n  </tbody>\n</table>\n<p>4617 rows × 6 columns</p>\n</div>"
     },
     "metadata": {},
     "execution_count": 13
    }
   ],
   "source": [
    "fdr.DataReader('060310')"
   ]
  }
 ]
}