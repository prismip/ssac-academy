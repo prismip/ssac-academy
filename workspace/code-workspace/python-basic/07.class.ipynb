{
 "metadata": {
  "language_info": {
   "codemirror_mode": {
    "name": "ipython",
    "version": 3
   },
   "file_extension": ".py",
   "mimetype": "text/x-python",
   "name": "python",
   "nbconvert_exporter": "python",
   "pygments_lexer": "ipython3",
   "version": "3.7.7-final"
  },
  "orig_nbformat": 2,
  "kernelspec": {
   "name": "python3",
   "display_name": "Python 3"
  }
 },
 "nbformat": 4,
 "nbformat_minor": 2,
 "cells": [
  {
   "cell_type": "code",
   "execution_count": 16,
   "metadata": {},
   "outputs": [],
   "source": [
    "class Employee:\n",
    "    '직원 정보를 관리하는 클래스'\n",
    "\n",
    "    empCount = 0 # Employee 클래스를 사용해서 만들어지는 모든 인스턴스가 공유하는 멤버, 클래스를 통해서 접근\n",
    "\n",
    "    def __init__(self, name, salary): # 생성자 메서드 : 인스턴스가 만들어질 때 자동으로 호출되는 메서드 (인스턴스 초기화 목적)\n",
    "        self.name = name\n",
    "        self.salary = salary\n",
    "        Employee.empCount += 1\n",
    "        print('생성자 메서드입니다.')\n",
    "\n",
    "    def display_empcount(self):\n",
    "        print(\"Total Employees : {0}\".format(Employee.empCount))\n",
    "\n",
    "    def display_employee(self):\n",
    "        print(\"[Name : {0}][Salary : {1}]\".format(self.name, self.salary))"
   ]
  },
  {
   "cell_type": "code",
   "execution_count": 17,
   "metadata": {},
   "outputs": [
    {
     "output_type": "stream",
     "name": "stdout",
     "text": [
      "생성자 메서드입니다.\n생성자 메서드입니다.\n생성자 메서드입니다.\n[Name : John Doe][Salary : 1000000]\nTotal Employees : 3\n[Name : Jane Doe][Salary : 2000000]\nTotal Employees : 3\n[Name : 홍길동][Salary : 3000000]\nTotal Employees : 3\n"
     ]
    }
   ],
   "source": [
    "emp1 = Employee('John Doe', 1000000) # --> emp.name = 'John Doe'\n",
    "emp2 = Employee('Jane Doe', 2000000)\n",
    "emp3 = Employee('홍길동', 3000000)\n",
    "\n",
    "emp1.display_employee()\n",
    "emp1.display_empcount()\n",
    "emp2.display_employee()\n",
    "emp3.display_empcount()\n",
    "emp3.display_employee()\n",
    "emp3.display_empcount()"
   ]
  },
  {
   "cell_type": "code",
   "execution_count": null,
   "metadata": {},
   "outputs": [],
   "source": []
  }
 ]
}