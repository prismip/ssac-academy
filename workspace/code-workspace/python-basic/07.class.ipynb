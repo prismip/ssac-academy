{
 "metadata": {
  "language_info": {
   "codemirror_mode": {
    "name": "ipython",
    "version": 3
   },
   "file_extension": ".py",
   "mimetype": "text/x-python",
   "name": "python",
   "nbconvert_exporter": "python",
   "pygments_lexer": "ipython3",
   "version": "3.7.9-final"
  },
  "orig_nbformat": 2,
  "kernelspec": {
   "name": "python3",
   "display_name": "Python 3",
   "language": "python"
  }
 },
 "nbformat": 4,
 "nbformat_minor": 2,
 "cells": [
  {
   "cell_type": "code",
   "execution_count": 16,
   "metadata": {},
   "outputs": [],
   "source": [
    "class Employee:\n",
    "    '직원 정보를 관리하는 클래스'\n",
    "\n",
    "    empCount = 0 # Employee 클래스를 사용해서 만들어지는 모든 인스턴스가 공유하는 멤버, 클래스를 통해서 접근\n",
    "\n",
    "    def __init__(self, name, salary): # 생성자 메서드 : 인스턴스가 만들어질 때 자동으로 호출되는 메서드 (인스턴스 초기화 목적)\n",
    "        self.name = name\n",
    "        self.salary = salary\n",
    "        Employee.empCount += 1\n",
    "        print('생성자 메서드입니다.')\n",
    "\n",
    "    def display_empcount(self):\n",
    "        print(\"Total Employees : {0}\".format(Employee.empCount))\n",
    "\n",
    "    def display_employee(self):\n",
    "        print(\"[Name : {0}][Salary : {1}]\".format(self.name, self.salary))"
   ]
  },
  {
   "cell_type": "code",
   "execution_count": 18,
   "metadata": {},
   "outputs": [
    {
     "output_type": "stream",
     "name": "stdout",
     "text": [
      "생성자 메서드입니다.\n생성자 메서드입니다.\n생성자 메서드입니다.\n[Name : John Doe][Salary : 1000000]\nTotal Employees : 6\n[Name : Jane Doe][Salary : 2000000]\nTotal Employees : 6\n[Name : 홍길동][Salary : 3000000]\nTotal Employees : 6\n홍길동 3000000\n"
     ]
    }
   ],
   "source": [
    "emp1 = Employee('John Doe', 1000000) # --> emp.name = 'John Doe'\n",
    "emp2 = Employee('Jane Doe', 2000000)\n",
    "emp3 = Employee('홍길동', 3000000)\n",
    "\n",
    "emp1.display_employee()\n",
    "emp1.display_empcount()\n",
    "emp2.display_employee()\n",
    "emp3.display_empcount()\n",
    "emp3.display_employee()\n",
    "emp3.display_empcount()\n",
    "\n",
    "print(emp3.name, emp3.salary)"
   ]
  },
  {
   "cell_type": "code",
   "execution_count": 19,
   "metadata": {},
   "outputs": [
    {
     "output_type": "stream",
     "name": "stdout",
     "text": [
      "Class is created! Value =  10\nClass is deleted!\n"
     ]
    }
   ],
   "source": [
    "class MyClass:\n",
    "    def __init__(self, value):\n",
    "        self.Value = value\n",
    "        print(\"Class is created! Value = \", value)\n",
    "\n",
    "    def __del__(self):\n",
    "        print(\"Class is deleted!\")\n",
    "\n",
    "def foo():\n",
    "    d = MyClass(10)\n",
    "\n",
    "foo()"
   ]
  },
  {
   "cell_type": "code",
   "execution_count": 25,
   "metadata": {},
   "outputs": [],
   "source": [
    "class Test:\n",
    "    \n",
    "    @classmethod\n",
    "    def class_method(cls):\n",
    "        print(cls)\n",
    "        print('class method')\n",
    "    \n",
    "    @staticmethod\n",
    "    def static_method():\n",
    "        print('static method')\n",
    "    \n",
    "    def method(self):\n",
    "        print(\"method\")"
   ]
  },
  {
   "cell_type": "code",
   "execution_count": 27,
   "metadata": {},
   "outputs": [
    {
     "output_type": "stream",
     "name": "stdout",
     "text": [
      "<class '__main__.Test'>\nclass method\nstatic method\n"
     ]
    }
   ],
   "source": [
    "Test.class_method()\n",
    "Test.static_method()\n",
    "# Test.method() 인스턴스 메서드는 클래스로 접근할 수 없습니다."
   ]
  },
  {
   "cell_type": "code",
   "execution_count": 28,
   "metadata": {},
   "outputs": [],
   "source": [
    "class Parent: # define parent class\n",
    "    parentAttr = 100\n",
    "    def __init__(self):\n",
    "        print (\"Calling parent constructor\")\n",
    "    def parentMethod(self):\n",
    "        print ('Calling parent method')\n",
    "    def setAttr(self, attr):\n",
    "        Parent.parentAttr = attr\n",
    "    def getAttr(self):\n",
    "        print (\"Parent attribute :\", Parent.parentAttr)\n",
    "    \n",
    "class Child(Parent): # define child class\n",
    "    def __init__(self):\n",
    "        print (\"Calling child constructor\")\n",
    "    def childMethod(self):\n",
    "        print ('Calling child method')"
   ]
  },
  {
   "cell_type": "code",
   "execution_count": 29,
   "metadata": {},
   "outputs": [
    {
     "output_type": "stream",
     "name": "stdout",
     "text": [
      "Calling child constructor\nCalling child method\nCalling parent method\nParent attribute : 200\n"
     ]
    }
   ],
   "source": [
    "c = Child() # instance of child\n",
    "c.childMethod() # child calls its method\n",
    "c.parentMethod() # calls parent's method\n",
    "c.setAttr(200) # again call parent's method\n",
    "c.getAttr() # again call parent's method"
   ]
  },
  {
   "cell_type": "code",
   "execution_count": 35,
   "metadata": {},
   "outputs": [
    {
     "output_type": "execute_result",
     "data": {
      "text/plain": [
       "True"
      ]
     },
     "metadata": {},
     "execution_count": 35
    }
   ],
   "source": [
    "issubclass(Child, Parent) # True\n",
    "issubclass(Parent, Child) # False\n",
    "issubclass(Parent, Parent) # True\n",
    "issubclass(Parent, object) # True\n",
    "issubclass(Child, object) # True"
   ]
  },
  {
   "cell_type": "code",
   "execution_count": 37,
   "metadata": {},
   "outputs": [
    {
     "output_type": "execute_result",
     "data": {
      "text/plain": [
       "((object,), (__main__.Parent,))"
      ]
     },
     "metadata": {},
     "execution_count": 37
    }
   ],
   "source": [
    "Parent.__bases__, Child.__bases__"
   ]
  },
  {
   "cell_type": "code",
   "execution_count": 47,
   "metadata": {},
   "outputs": [],
   "source": [
    "class Person:\n",
    "    \" 부모 클래스 \"\n",
    "    def __init__(self, name, phoneNumber):\n",
    "        self.Name = name\n",
    "        self.PhoneNumber = phoneNumber\n",
    "    def PrintInfo(self):\n",
    "        print(\"Info(Name:{0}, Phone Number: {1})\".format(self.Name, self.PhoneNumber))\n",
    "    def PrintPersonData(self):\n",
    "        print(\"Person(Name:{0}, Phone Number: {1})\".format(self.Name, self.PhoneNumber))\n",
    "\n",
    "class Student(Person):\n",
    "    \" 자식 클래스 \"\n",
    "    def __init__(self, name, phoneNumber, subject, studentID):\n",
    "        # self.Name = name\n",
    "        # self.PhoneNumber = phoneNumber\n",
    "        Person.__init__(self, name, phoneNumber)\n",
    "        self.Subject = subject\n",
    "        self.StudentID = studentID\n",
    "\n",
    "    def PrintInfo(self):\n",
    "        Person.PrintPersonData(self)\n",
    "        print(\"Info(Subject:{0}, Student ID:{1})\".format(self.Subject, self.StudentID))"
   ]
  },
  {
   "cell_type": "code",
   "execution_count": 48,
   "metadata": {},
   "outputs": [
    {
     "output_type": "stream",
     "name": "stdout",
     "text": [
      "Person(Name:John Doe, Phone Number: 010-0098-7765)\nPerson(Name:John Doe, Phone Number: 010-0098-7765)\nInfo(Subject:bigdata, Student ID:1)\n"
     ]
    }
   ],
   "source": [
    "s = Student('John Doe', '010-0098-7765', 'bigdata', '1')\n",
    "s.PrintPersonData()\n",
    "s.PrintInfo()"
   ]
  },
  {
   "cell_type": "code",
   "execution_count": 2,
   "metadata": {},
   "outputs": [],
   "source": [
    "class Tiger:\n",
    "    def Jump(self):\n",
    "        print(\"호랑이처럼 멀리 점프하기\")\n",
    "    def Cry(self):\n",
    "        print(\"호랑이: 어흥~\")\n",
    "\n",
    "class Lion:\n",
    "    def Bite(self):\n",
    "        print(\"사자처럼 한입에 꿀꺽하기\")\n",
    "    def Cry(self):\n",
    "        print(\"사자: 으르렁~\")\n",
    "\n",
    "class Liger(Tiger, Lion):\n",
    "    def Play(self):\n",
    "        print(\"라이거만의 사육사와 재미있게 놀기\")\n",
    "    def Cry(self, tiger=True):\n",
    "        if tiger:\n",
    "            Tiger.Cry(self)\n",
    "        else:\n",
    "            Lion.Cry(self)"
   ]
  },
  {
   "cell_type": "code",
   "execution_count": 4,
   "metadata": {},
   "outputs": [
    {
     "output_type": "stream",
     "name": "stdout",
     "text": [
      "호랑이처럼 멀리 점프하기\n사자처럼 한입에 꿀꺽하기\n라이거만의 사육사와 재미있게 놀기\n사자: 으르렁~\n"
     ]
    }
   ],
   "source": [
    "l = Liger()\n",
    "l.Jump()\n",
    "l.Bite()\n",
    "l.Play()\n",
    "l.Cry(False)"
   ]
  },
  {
   "cell_type": "code",
   "execution_count": 53,
   "metadata": {},
   "outputs": [],
   "source": [
    "class Animal:\n",
    "    def __init__(self):\n",
    "        print(\"Animal __init__()\")\n",
    "\n",
    "class Tiger(Animal):\n",
    "    def __init__(self):\n",
    "        super().__init__()\n",
    "        print(\"Tiger __init__()\")\n",
    "\n",
    "class Lion(Animal):\n",
    "    def __init__(self):\n",
    "        super().__init__()\n",
    "        print(\"Lion __init__()\")\n",
    "\n",
    "class Liger(Tiger, Lion):\n",
    "    def __init__(self):\n",
    "        super().__init__()\n",
    "        print(\"Liger __init__()\")"
   ]
  },
  {
   "cell_type": "code",
   "execution_count": 54,
   "metadata": {},
   "outputs": [
    {
     "output_type": "stream",
     "name": "stdout",
     "text": [
      "Animal __init__()\nLion __init__()\nTiger __init__()\nLiger __init__()\n"
     ]
    },
    {
     "output_type": "execute_result",
     "data": {
      "text/plain": [
       "<__main__.Liger at 0x25fca3efb88>"
      ]
     },
     "metadata": {},
     "execution_count": 54
    }
   ],
   "source": [
    "Liger()"
   ]
  },
  {
   "cell_type": "code",
   "execution_count": 20,
   "metadata": {},
   "outputs": [],
   "source": [
    "# 연락처 { \"no\": 1, \"name\": 'id', \"email\": 'e', \"phone\": 'p' }\n",
    "class Contact:\n",
    "    def __init__(self, no, name, email, phone):\n",
    "        self.no = no\n",
    "        self.name = name\n",
    "        self.email = email\n",
    "        self.phone = phone\n",
    "\n",
    "    def __getitem__(self, key):\n",
    "        return getattr(self, key)\n",
    "\n",
    "    def to_dict(self):\n",
    "        return { 'no': self.no, 'name': self.name, 'email': self.email, 'phone': self.phone }\n",
    "\n",
    "    def contact_info(self):\n",
    "        return \"[{0}][{1}][{2}][{3}]\".format(self.no, self.name, self.email, self.phone)"
   ]
  },
  {
   "cell_type": "code",
   "execution_count": 21,
   "metadata": {},
   "outputs": [
    {
     "output_type": "stream",
     "name": "stdout",
     "text": [
      "{'no': 1, 'name': 'aaa', 'email': 'aaa', 'phone': 'aaa'}\n[1][aaa][aaa][aaa]\n"
     ]
    }
   ],
   "source": [
    "c = Contact(1, 'aaa', 'aaa', 'aaa')\n",
    "print( c.to_dict() )\n",
    "print( c.contact_info() )\n",
    "# c.__no, c.__name, c.__email, c.__phone\n",
    "# c._Contact__no, c._Contact__name"
   ]
  },
  {
   "cell_type": "code",
   "execution_count": 23,
   "metadata": {},
   "outputs": [
    {
     "output_type": "execute_result",
     "data": {
      "text/plain": [
       "(1, 1)"
      ]
     },
     "metadata": {},
     "execution_count": 23
    }
   ],
   "source": [
    "getattr(c, 'no'), c['no']"
   ]
  },
  {
   "cell_type": "code",
   "execution_count": 5,
   "metadata": {},
   "outputs": [],
   "source": [
    "class AAA:\n",
    "\n",
    "    def __init__(self):\n",
    "        self.d = 10\n",
    "\n",
    "    def m(self):\n",
    "        return self.d\n",
    "\n",
    "    @property\n",
    "    def m2(self):\n",
    "        return self.d"
   ]
  },
  {
   "cell_type": "code",
   "execution_count": 6,
   "metadata": {},
   "outputs": [
    {
     "output_type": "stream",
     "name": "stdout",
     "text": [
      "10\n<bound method AAA.m of <__main__.AAA object at 0x00000175C2FF99C8>>\n10\n"
     ]
    }
   ],
   "source": [
    "a = AAA()\n",
    "print( a.m() )\n",
    "# print( a.d )\n",
    "print( a.m )\n",
    "print( a.m2 )"
   ]
  }
 ]
}